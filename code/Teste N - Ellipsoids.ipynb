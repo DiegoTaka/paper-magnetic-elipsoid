{
 "cells": [
  {
   "cell_type": "markdown",
   "metadata": {},
   "source": [
    "# Demagnetization factors "
   ]
  },
  {
   "cell_type": "markdown",
   "metadata": {},
   "source": [
    "### Import the required modules"
   ]
  },
  {
   "cell_type": "code",
   "execution_count": 1,
   "metadata": {
    "collapsed": false
   },
   "outputs": [
    {
     "name": "stderr",
     "output_type": "stream",
     "text": [
      "C:\\Users\\Vanderlei\\Documents\\fatiando\\fatiando\\vis\\mpl.py:76: UserWarning: This module will be removed in v0.6. We recommend the use of matplotlib.pyplot module directly. Some of the fatiando specific functions will remain.\n",
      "  \"specific functions will remain.\")\n"
     ]
    }
   ],
   "source": [
    "import numpy as np\n",
    "from matplotlib import pyplot as plt\n",
    "%matplotlib inline\n",
    "from fatiando import mesher, gridder, utils\n",
    "from fatiando.gravmag import ellipsoid_triaxial,ellipsoid_prolate,ellipsoid_oblate"
   ]
  },
  {
   "cell_type": "markdown",
   "metadata": {},
   "source": [
    "### Local geomagnetic-field"
   ]
  },
  {
   "cell_type": "code",
   "execution_count": 2,
   "metadata": {
    "collapsed": true
   },
   "outputs": [],
   "source": [
    "B0 = 60000. # nT\n",
    "inc = 30. # degrees\n",
    "dec = -15. # degrees"
   ]
  },
  {
   "cell_type": "markdown",
   "metadata": {},
   "source": [
    "### Coordinates in the main coordinate system"
   ]
  },
  {
   "cell_type": "code",
   "execution_count": 3,
   "metadata": {
    "collapsed": true
   },
   "outputs": [],
   "source": [
    "bounds = [-5000, 5000, -5000, 5000, 0, 5000]\n",
    "\n",
    "# Create a regular grid at 100m height\n",
    "shape = (200, 200)\n",
    "area = bounds[:4]\n",
    "xp, yp, zp = gridder.regular(area, shape, z=0)"
   ]
  },
  {
   "cell_type": "markdown",
   "metadata": {},
   "source": [
    "### Triaxial model"
   ]
  },
  {
   "cell_type": "code",
   "execution_count": 41,
   "metadata": {
    "collapsed": false
   },
   "outputs": [],
   "source": [
    "# semi-axes (in m)\n",
    "a = 500.\n",
    "b = 100.\n",
    "c = 50.\n",
    "\n",
    "# auxiliary variable (in m)\n",
    "u = np.linspace(500., 30000., 100)\n",
    "\n",
    "n11_triaxial = []\n",
    "n22_triaxial = []\n",
    "n33_triaxial = []\n",
    "\n",
    "for ui in u:\n",
    "    model = [mesher.EllipsoidTriaxial(0.,0.,500.,a+ui,b+ui,c+ui,0.,0.,0., \n",
    "                                     {'remanence': [10000, 90., 0.],\n",
    "                                      'k': [0.2, 0.1, 0.05, 0., 90., 90.]})]\n",
    "\n",
    "    # Calculate the anomaly for a given regional field\n",
    "    tf,N1,N2,N3,JRD_ang = ellipsoid_triaxial.tf_c(xp,yp,zp,B0,inc,dec,model)\n",
    "    n11_triaxial.append(N1)\n",
    "    n22_triaxial.append(N2)\n",
    "    n33_triaxial.append(N3)"
   ]
  },
  {
   "cell_type": "code",
   "execution_count": 42,
   "metadata": {
    "collapsed": false
   },
   "outputs": [
    {
     "data": {
      "image/png": "[encoded data removed]",
      "text/plain": [
       "<matplotlib.figure.Figure at 0x16d02e48>"
      ]
     },
     "metadata": {},
     "output_type": "display_data"
    }
   ],
   "source": [
    "plt.figure(figsize=(3.27, 2))\n",
    "plt.plot(u,n11_triaxial, label='$\\\\tilde{n}^{\\dagger}_{11}$')\n",
    "plt.plot(u,n22_triaxial, label='$\\\\tilde{n}^{\\dagger}_{22}$')\n",
    "plt.plot(u,n33_triaxial, label='$\\\\tilde{n}^{\\dagger}_{33}$')\n",
    "plt.plot([u.min(), u.max()], [1/3., 1/3.], '-k')\n",
    "plt.legend(loc='upper right', fontsize=6, ncol=3)\n",
    "plt.ylabel('$\\\\tilde{n}^{\\dagger}$', fontsize=10)\n",
    "plt.xlabel('$u$', fontsize=10)\n",
    "plt.xticks(fontsize=6)\n",
    "plt.yticks(fontsize=6)\n",
    "plt.xlim(u.min(), u.max())\n",
    "plt.tight_layout()\n",
    "#plt.savefig('..\\\\manuscript\\\\figures\\\\n_triaxial.pdf', facecolor='w', bbox_inches='tight')"
   ]
  },
  {
   "cell_type": "markdown",
   "metadata": {},
   "source": [
    "## Prolate"
   ]
  },
  {
   "cell_type": "code",
   "execution_count": null,
   "metadata": {
    "collapsed": false
   },
   "outputs": [],
   "source": [
    "b = 100.\n",
    "m = np.linspace(1.1, 100., 100)\n",
    "a = b*m\n",
    "\n",
    "N1_l2 = []\n",
    "N2_l2 = []\n",
    "\n",
    "for ai in a:\n",
    "    model = [mesher.EllipsoidProlate(0.,0.,500.,ai,b,0.,0., \n",
    "                                     {'remanence': [10000, 90., 0.],\n",
    "                                      'k': [0.2, 0.1, 0.05, 0., 90., 90.]})]\n",
    "\n",
    "    # Calculate the anomaly for a given regional field\n",
    "    tf2,N12,N22 = ellipsoid_prolate.tf_c(xp,yp,zp,B0,inc,dec,model)\n",
    "    N1_l2.append(N12)\n",
    "    N2_l2.append(N22)\n",
    "\n",
    "N1_l2 = np.array(N1_l2)/(4*np.pi)\n",
    "N2_l2 = np.array(N2_l2)/(4*np.pi)\n",
    "cte2 = np.ones_like(N1_l2)/3"
   ]
  },
  {
   "cell_type": "code",
   "execution_count": null,
   "metadata": {
    "collapsed": false
   },
   "outputs": [],
   "source": [
    "axes = plt.gca()\n",
    "plt.plot(m,N1_l2, label='$\\\\tilde{n}^{\\dagger}_{11}$')\n",
    "plt.plot(m,N2_l2, label='$\\\\tilde{n}^{\\dagger}_{22}$')\n",
    "plt.plot(m,cte2, '--k')\n",
    "axes.set_ylim([-0.05,0.62])\n",
    "plt.legend(loc='best', ncol=2, fontsize = 14)\n",
    "plt.ylabel('$\\\\tilde{n}^{\\dagger}$ (SI)', fontsize=16)\n",
    "plt.xlabel('$m$', fontsize=16)\n",
    "plt.tight_layout()\n",
    "#plt.savefig('..\\\\figures\\\\test_n_prolate.jpeg', dpi = 600, facecolor='w', bbox_inches='tight')"
   ]
  },
  {
   "cell_type": "markdown",
   "metadata": {},
   "source": [
    "## Oblate"
   ]
  },
  {
   "cell_type": "code",
   "execution_count": null,
   "metadata": {
    "collapsed": false
   },
   "outputs": [],
   "source": [
    "b = 1000.\n",
    "m = np.linspace(0.05, 1.0, 200, endpoint=False)\n",
    "a = b*m\n",
    "\n",
    "N1_l3 = []\n",
    "N2_l3 = []\n",
    "\n",
    "for ai in (a):\n",
    "    model = [mesher.EllipsoidOblate(0.,0.,500,ai,b,0.,0., \n",
    "                                     {'remanence': [10000, 90., 0.],\n",
    "                                      'k': [0.2, 0.1, 0.05, 0., 90., 90.]})]\n",
    "\n",
    "    # Calculate the anomaly for a given regional field\n",
    "    tf3,N13,N23 = ellipsoid_oblate.tf_c(xp,yp,zp,B0,inc,dec,model)\n",
    "    N1_l3.append(N13)\n",
    "    N2_l3.append(N23)\n",
    "\n",
    "N1_l3 = np.array(N1_l3)/(4*np.pi)\n",
    "N2_l3 = np.array(N2_l3)/(4*np.pi)\n",
    "cte3 = np.ones_like(N1_l3)/3"
   ]
  },
  {
   "cell_type": "code",
   "execution_count": null,
   "metadata": {
    "collapsed": false
   },
   "outputs": [],
   "source": [
    "axes = plt.gca()\n",
    "plt.plot(m,N1_l3, label='$\\\\tilde{n}^{\\dagger}_{11}$')\n",
    "plt.plot(m,N2_l3, label='$\\\\tilde{n}^{\\dagger}_{22}$')\n",
    "plt.plot(m,cte3, '--k')\n",
    "plt.legend(loc='upper right', ncol=2, fontsize = 14)\n",
    "plt.ylabel('$\\\\tilde{n}^{\\dagger}$ (SI)', fontsize=16)\n",
    "plt.xlabel('$m$', fontsize=16)\n",
    "plt.tight_layout()\n",
    "#plt.savefig('..\\\\figures\\\\test_n_oblate.jpeg', dpi = 600, facecolor='w', bbox_inches='tight')"
   ]
  },
  {
   "cell_type": "code",
   "execution_count": null,
   "metadata": {
    "collapsed": true
   },
   "outputs": [],
   "source": []
  }
 ],
 "metadata": {
  "anaconda-cloud": {},
  "kernelspec": {
   "display_name": "Python [default]",
   "language": "python",
   "name": "python2"
  },
  "language_info": {
   "codemirror_mode": {
    "name": "ipython",
    "version": 2
   },
   "file_extension": ".py",
   "mimetype": "text/x-python",
   "name": "python",
   "nbconvert_exporter": "python",
   "pygments_lexer": "ipython2",
   "version": "2.7.10"
  }
 },
 "nbformat": 4,
 "nbformat_minor": 1
}
