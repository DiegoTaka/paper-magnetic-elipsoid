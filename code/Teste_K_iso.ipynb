{
 "cells": [
  {
   "cell_type": "code",
   "execution_count": 1,
   "metadata": {
    "collapsed": false
   },
   "outputs": [
    {
     "name": "stderr",
     "output_type": "stream",
     "text": [
      "C:\\Users\\Vanderlei\\Documents\\fatiando\\fatiando\\vis\\mpl.py:76: UserWarning: This module will be removed in v0.6. We recommend the use of matplotlib.pyplot module directly. Some of the fatiando specific functions will remain.\n",
      "  \"specific functions will remain.\")\n"
     ]
    }
   ],
   "source": [
    "\"\"\"\n",
    "GravMag: 3D forward modeling of total-field magnetic anomaly using triaxial\n",
    "ellipsoids (model with induced and remanent magnetization)\n",
    "\"\"\"\n",
    "import numpy as np\n",
    "from matplotlib import pyplot as plt\n",
    "%matplotlib inline\n",
    "from fatiando import mesher, gridder, utils\n",
    "from fatiando.gravmag import ellipsoid_triaxial,ellipsoid_prolate,ellipsoid_oblate"
   ]
  },
  {
   "cell_type": "code",
   "execution_count": 2,
   "metadata": {
    "collapsed": true
   },
   "outputs": [],
   "source": [
    "# The regional field\n",
    "inten,inc, dec = 60000., 30, -15\n",
    "bounds = [-5000, 5000, -5000, 5000, 0, 5000]\n",
    "# Create a regular grid at 100m height\n",
    "shape = (200, 200)\n",
    "area = bounds[:4]\n",
    "xp, yp, zp = gridder.regular(area, shape, z=0)"
   ]
  },
  {
   "cell_type": "markdown",
   "metadata": {},
   "source": [
    "## Triaxial"
   ]
  },
  {
   "cell_type": "code",
   "execution_count": 3,
   "metadata": {
    "collapsed": false
   },
   "outputs": [],
   "source": [
    "I_l = []\n",
    "D_l = []\n",
    "k_l = np.linspace(0.0001, 0.3, 100) # SI\n",
    "\n",
    "for k in k_l:\n",
    "    model = [mesher.EllipsoidTriaxial(0.,0.,500.,500.,100.,50.,0.,0.,0., \n",
    "                                     {'remanence': [0, 0., 0.],\n",
    "                                      'k': [k, k, k, 0., 90., 90.]})]\n",
    "\n",
    "    # Calculate the anomaly for a given regional field\n",
    "    tf,N1,N2,N3,JRD_ang = ellipsoid_triaxial.tf_c(xp,yp,zp,inten,inc,dec,model)\n",
    "    I_l.append(JRD_ang[1])\n",
    "    D_l.append(JRD_ang[2])\n",
    "\n",
    "cte_inc = np.zeros_like(I_l) + inc\n",
    "cte_dec = np.zeros_like(I_l) + dec"
   ]
  },
  {
   "cell_type": "code",
   "execution_count": 4,
   "metadata": {
    "collapsed": false
   },
   "outputs": [
    {
     "data": {
      "image/png": "[encoded data removed]",
      "text/plain": [
       "<matplotlib.figure.Figure at 0xaddfa90>"
      ]
     },
     "metadata": {},
     "output_type": "display_data"
    }
   ],
   "source": [
    "axes = plt.gca()\n",
    "plt.plot([0.1,0.1], [-20.,35.], 'k-')\n",
    "plt.plot(k_l,I_l, label='I')\n",
    "plt.plot(k_l,D_l, label='D')\n",
    "plt.plot(k_l,cte_inc, '--k', label='I0', )\n",
    "plt.plot(k_l,cte_dec, '--r', label='D0')\n",
    "plt.legend(loc='best', ncol=4)\n",
    "plt.ylabel('$I,D^o$', fontsize=12)\n",
    "plt.xlabel('$K$', fontsize=14)\n",
    "axes.set_ylim(-20.,35.)\n",
    "#axes.set_xlim([0,5])\n",
    "plt.tight_layout()\n",
    "#plt.savefig('..\\\\figures\\\\test_k_triaxial.jpeg', dpi = 600, facecolor='w', bbox_inches='tight')"
   ]
  },
  {
   "cell_type": "code",
   "execution_count": null,
   "metadata": {
    "collapsed": true
   },
   "outputs": [],
   "source": []
  }
 ],
 "metadata": {
  "anaconda-cloud": {},
  "kernelspec": {
   "display_name": "Python [default]",
   "language": "python",
   "name": "python2"
  },
  "language_info": {
   "codemirror_mode": {
    "name": "ipython",
    "version": 2
   },
   "file_extension": ".py",
   "mimetype": "text/x-python",
   "name": "python",
   "nbconvert_exporter": "python",
   "pygments_lexer": "ipython2",
   "version": "2.7.10"
  }
 },
 "nbformat": 4,
 "nbformat_minor": 1
}
