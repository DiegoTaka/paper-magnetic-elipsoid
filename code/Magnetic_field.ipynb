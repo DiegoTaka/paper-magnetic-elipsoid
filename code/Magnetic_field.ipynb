{
 "cells": [
  {
   "cell_type": "code",
   "execution_count": null,
   "metadata": {
    "collapsed": false
   },
   "outputs": [],
   "source": [
    "\"\"\"\n",
    "GravMag: 3D forward modeling of total-field magnetic anomaly using triaxial\n",
    "ellipsoids (model with induced and remanent magnetization)\n",
    "\"\"\"\n",
    "import numpy as np\n",
    "from matplotlib import pyplot as plt\n",
    "%matplotlib inline\n",
    "from fatiando import mesher, gridder, utils\n",
    "from fatiando.gravmag import ellipsoid_triaxial,ellipsoid_prolate,ellipsoid_oblate,sphere"
   ]
  },
  {
   "cell_type": "code",
   "execution_count": null,
   "metadata": {
    "collapsed": true
   },
   "outputs": [],
   "source": [
    "# The regional field\n",
    "inten,inc, dec = 60000., 50., 20.\n",
    "bounds = [-5000, 5000, -5000, 5000, 0, 5000]\n",
    "# Create a regular grid at 100m height\n",
    "shape = (200, 200)\n",
    "area = bounds[:4]\n",
    "xp, yp, zp = gridder.regular(area, shape, z=0)"
   ]
  },
  {
   "cell_type": "markdown",
   "metadata": {},
   "source": [
    "## Triaxial X Sphere"
   ]
  },
  {
   "cell_type": "code",
   "execution_count": null,
   "metadata": {
    "collapsed": false
   },
   "outputs": [],
   "source": [
    "model_t1 = [mesher.EllipsoidTriaxial(0.,0.,1000.,500.0001, 500.0, 499.9999,0.,0.,0., \n",
    "                                 {'remanence': [100, 25., 40.],\n",
    "                                  'k': [0.01, 0.01, 0.01, 0., 90., 90.]})]\n",
    "\n",
    "model_s = [mesher.Sphere(0.,0.,1000.,500.,\n",
    "                  {'magnetization': utils.ang2vec(95.97970, 25.000025, 39.99997)})]\n",
    "\n",
    "# Calculate the anomaly for a given regional field\n",
    "tf_t,N1,N2,N3,JRD_ang = ellipsoid_triaxial.tf_c(xp,yp,zp,1.,inc,dec,model_t1)\n",
    "\n",
    "tf_s = sphere.tf(xp, yp, zp, model_s, inc, dec)"
   ]
  },
  {
   "cell_type": "code",
   "execution_count": null,
   "metadata": {
    "collapsed": false
   },
   "outputs": [],
   "source": [
    "rangestf = np.max(np.abs([np.max(tf_t), np.min(tf_t),\n",
    "                          np.max(tf_s), np.min(tf_s)]))\n",
    "\n",
    "\n",
    "plt.figure(figsize=(15,8))\n",
    "\n",
    "plt.subplot(1,2,1)\n",
    "plt.title('A)', y=0.91, x=0.1, fontsize=18)\n",
    "plt.axis('scaled')\n",
    "plt.tricontourf(yp,xp,tf_t,15,\n",
    "            vmin = -rangestf, vmax = rangestf,\n",
    "            cmap=plt.cm.RdBu_r)\n",
    "cb = plt.colorbar(shrink=0.62)\n",
    "cb.set_label('$\\Delta T$ ( $nT$ )', rotation=90, fontsize=14)\n",
    "plt.xlim(bounds[2],bounds[3])\n",
    "plt.ylim(bounds[0],bounds[1])\n",
    "plt.xticks(fontsize=14)\n",
    "plt.yticks(fontsize=14)\n",
    "plt.xlabel('Horizontal coordinate y (m)', fontsize=14)\n",
    "plt.ylabel('Horizontal coordinate x (m)', fontsize=14)\n",
    "\n",
    "plt.subplot(1,2,2)\n",
    "plt.title('B)', y=0.91, x=0.1, fontsize=18)\n",
    "plt.axis('scaled')\n",
    "plt.tricontourf(yp,xp,tf_s,15,\n",
    "            vmin = -rangestf, vmax = rangestf,\n",
    "            cmap=plt.cm.RdBu_r)\n",
    "cb = plt.colorbar(shrink=0.62)\n",
    "cb.set_label('$\\Delta T$ ( $nT$ )', rotation=90, fontsize=14)\n",
    "plt.xlim(bounds[2],bounds[3])\n",
    "plt.ylim(bounds[0],bounds[1])\n",
    "plt.xticks(fontsize=14)\n",
    "plt.yticks(fontsize=14)\n",
    "plt.xlabel('Horizontal coordinate y (m)', fontsize=14)\n",
    "plt.ylabel('Horizontal coordinate x (m)', fontsize=14)\n",
    "\n",
    "plt.tight_layout()\n",
    "#plt.savefig('..\\\\figures\\\\ellipsoid_triaxial_sphere.jpeg', dpi = 600, facecolor='w', bbox_inches='tight')"
   ]
  },
  {
   "cell_type": "markdown",
   "metadata": {},
   "source": [
    "## Triaxial X Prolate"
   ]
  },
  {
   "cell_type": "code",
   "execution_count": null,
   "metadata": {
    "collapsed": false
   },
   "outputs": [],
   "source": [
    "model_t2 = [mesher.EllipsoidTriaxial(0.,0.,1000.,500.,100.,99.99,45.,0.,0., \n",
    "                                 {'remanence': [10000, 90., 0.],\n",
    "                                  'k': [0.2, 0.1, 0.05, 0., 90., 90.]})]\n",
    "\n",
    "# Calculate the anomaly for a given regional field\n",
    "tf_t,N1,N2,N3,JRD_ang = ellipsoid_triaxial.tf_c(xp,yp,zp,inten,inc,dec,model_t2)\n",
    "\n",
    "model_p = [mesher.EllipsoidProlate(0.,0.,1000.,500.,100.,45.,0., \n",
    "                                 {'remanence': [10000, 90., 0.],\n",
    "                                  'k': [0.2, 0.1, 0.05, 0., 90., 90.]})]\n",
    "\n",
    "# Calculate the anomaly for a given regional field\n",
    "tf_p,N1,N2 = ellipsoid_prolate.tf_c(xp,yp,zp,inten,inc,dec,model_p)"
   ]
  },
  {
   "cell_type": "code",
   "execution_count": null,
   "metadata": {
    "collapsed": false
   },
   "outputs": [],
   "source": [
    "rangestf = np.max(np.abs([np.max(tf_t), np.min(tf_t),\n",
    "                          np.max(tf_p), np.min(tf_p)]))\n",
    "\n",
    "\n",
    "plt.figure(figsize=(15,8))\n",
    "\n",
    "plt.subplot(1,2,1)\n",
    "plt.title('A)', y=0.91, x=0.1, fontsize=18)\n",
    "plt.axis('scaled')\n",
    "plt.tricontourf(yp,xp,tf_t,15,\n",
    "            vmin = -rangestf, vmax = rangestf,\n",
    "            cmap=plt.cm.RdBu_r)\n",
    "cb = plt.colorbar(shrink=0.65)\n",
    "cb.set_label('$\\Delta T$ ( $nT$ )', rotation=90, fontsize=14)\n",
    "plt.xlim(bounds[2],bounds[3])\n",
    "plt.ylim(bounds[0],bounds[1])\n",
    "plt.xticks(fontsize=14)\n",
    "plt.yticks(fontsize=14)\n",
    "plt.xlabel('Horizontal coordinate y (m)', fontsize=14)\n",
    "plt.ylabel('Horizontal coordinate x (m)', fontsize=14)\n",
    "\n",
    "plt.subplot(1,2,2)\n",
    "plt.title('B)', y=0.91, x=0.1, fontsize=18)\n",
    "plt.axis('scaled')\n",
    "plt.tricontourf(yp,xp,tf_p,15,\n",
    "            vmin = -rangestf, vmax = rangestf,\n",
    "            cmap=plt.cm.RdBu_r)\n",
    "cb = plt.colorbar(shrink=0.65)\n",
    "cb.set_label('$\\Delta T$ ( $nT$ )', rotation=90, fontsize=14)\n",
    "plt.xlim(bounds[2],bounds[3])\n",
    "plt.ylim(bounds[0],bounds[1])\n",
    "plt.xticks(fontsize=14)\n",
    "plt.yticks(fontsize=14)\n",
    "plt.xlabel('Horizontal coordinate y (m)', fontsize=14)\n",
    "plt.ylabel('Horizontal coordinate x (m)', fontsize=14)\n",
    "\n",
    "plt.tight_layout()\n",
    "#plt.savefig('..\\\\figures\\\\ellipsoid_triaxial_prolate.jpeg', dpi = 600, facecolor='w', bbox_inches='tight')"
   ]
  },
  {
   "cell_type": "markdown",
   "metadata": {},
   "source": [
    "## Triaxial X Oblate"
   ]
  },
  {
   "cell_type": "code",
   "execution_count": null,
   "metadata": {
    "collapsed": false
   },
   "outputs": [],
   "source": [
    "model_t3 = [mesher.EllipsoidTriaxial(0.,0.,1000.,500.,499.99,499.98,0.,0.,90., \n",
    "                                 {'remanence': [10000, 90., 0.],\n",
    "                                  'k': [0.2, 0.1, 0.05, 0., 90., 90.]})]\n",
    "\n",
    "# Calculate the anomaly for a given regional field\n",
    "tf_t,N1,N2,N3,JRD_ang = ellipsoid_triaxial.tf_c(xp,yp,zp,inten,inc,dec,model_t3)\n",
    "\n",
    "model_o = [mesher.EllipsoidOblate(0.,0.,1000.,499.99,500.,0.,0., \n",
    "                                 {'remanence': [10000, 90., 0.],\n",
    "                                  'k': [0.2, 0.1, 0.05, 0., 90., 90.]})]\n",
    "\n",
    "# Calculate the anomaly for a given regional field\n",
    "tf_o,N1,N2 = ellipsoid_oblate.tf_c(xp,yp,zp,inten,inc,dec,model_o)"
   ]
  },
  {
   "cell_type": "code",
   "execution_count": null,
   "metadata": {
    "collapsed": false
   },
   "outputs": [],
   "source": [
    "rangestf = np.max(np.abs([np.max(tf_t), np.min(tf_t),\n",
    "                          np.max(tf_o), np.min(tf_o)]))\n",
    "\n",
    "\n",
    "plt.figure(figsize=(15,8))\n",
    "\n",
    "plt.subplot(1,2,1)\n",
    "plt.title('A)', y=0.91, x=0.1, fontsize=18)\n",
    "plt.axis('scaled')\n",
    "plt.tricontourf(yp,xp,tf_t,15,\n",
    "            vmin = -rangestf, vmax = rangestf,\n",
    "            cmap=plt.cm.RdBu_r)\n",
    "cb = plt.colorbar(shrink=0.65)\n",
    "cb.set_label('$\\Delta T$ ( $nT$ )', rotation=90, fontsize=14)\n",
    "plt.xlim(bounds[2],bounds[3])\n",
    "plt.ylim(bounds[0],bounds[1])\n",
    "plt.xticks(fontsize=14)\n",
    "plt.yticks(fontsize=14)\n",
    "plt.xlabel('Horizontal coordinate y (m)', fontsize=14)\n",
    "plt.ylabel('Horizontal coordinate x (m)', fontsize=14)\n",
    "\n",
    "plt.subplot(1,2,2)\n",
    "plt.title('B)', y=0.91, x=0.1, fontsize=18)\n",
    "plt.axis('scaled')\n",
    "plt.tricontourf(yp,xp,tf_o,15,\n",
    "            vmin = -rangestf, vmax = rangestf,\n",
    "            cmap=plt.cm.RdBu_r)\n",
    "cb = plt.colorbar(shrink=0.65)\n",
    "cb.set_label('$\\Delta T$ ( $nT$ )', rotation=90, fontsize=14)\n",
    "plt.xlim(bounds[2],bounds[3])\n",
    "plt.ylim(bounds[0],bounds[1])\n",
    "plt.xticks(fontsize=14)\n",
    "plt.yticks(fontsize=14)\n",
    "plt.xlabel('Horizontal coordinate y (m)', fontsize=14)\n",
    "plt.ylabel('Horizontal coordinate x (m)', fontsize=14)\n",
    "\n",
    "plt.tight_layout()\n",
    "#plt.savefig('..\\\\figures\\\\ellipsoid_triaxial_oblate.jpeg', dpi = 600, facecolor='w', bbox_inches='tight')"
   ]
  }
 ],
 "metadata": {
  "anaconda-cloud": {},
  "kernelspec": {
   "display_name": "Python [default]",
   "language": "python",
   "name": "python2"
  },
  "language_info": {
   "codemirror_mode": {
    "name": "ipython",
    "version": 2
   },
   "file_extension": ".py",
   "mimetype": "text/x-python",
   "name": "python",
   "nbconvert_exporter": "python",
   "pygments_lexer": "ipython2",
   "version": "2.7.10"
  }
 },
 "nbformat": 4,
 "nbformat_minor": 1
}
