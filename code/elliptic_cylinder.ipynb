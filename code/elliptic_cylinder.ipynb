{
 "cells": [
  {
   "cell_type": "markdown",
   "metadata": {},
   "source": [
    "# Comparison between different algorithms for calculating the magnetic field produced by ellipsoids"
   ]
  },
  {
   "cell_type": "markdown",
   "metadata": {},
   "source": [
    "The magnetic induction field produced by ellipsoids can be calculated by different algorithms, depending on the shape of the ellipsoid. Emerson et al. (1985) proposed algorithms for calculating the magnetic field produced by elliptic cylinder. Clark et al.(1986) proposed algorithms for calculating the magnetic field produced by triaxial ellipsoids.\n",
    "\n",
    "This code compares the magnetic field produced by a triaxial ellipsoid approximated to a elliptic cylinder (semi-axis much larger than b and c) with the Emerson's elliptic cylinder.\n",
    "\n",
    "\n",
    "* Emerson, D. W., Clark, D., and Saul, S. (1985). Magnetic exploration models incorporating remanence, demagnetization and anisotropy: Hp 41c handheld computer algorithms. Exploration Geophysics, 16(1):1–122.\n",
    "* Clark, D., Saul, S., and Emerson, D. (1986). Magnetic and gravity anomalies of a triaxial ellipsoid. Exploration Geophysics, 17(4):189–200."
   ]
  },
  {
   "cell_type": "markdown",
   "metadata": {},
   "source": [
    "### Required dependencies"
   ]
  },
  {
   "cell_type": "code",
   "execution_count": 15,
   "metadata": {
    "collapsed": true
   },
   "outputs": [],
   "source": [
    "import numpy as np\n",
    "from matplotlib import pyplot as plt\n",
    "\n",
    "from fatiando import mesher, gridder\n",
    "\n",
    "%matplotlib inline"
   ]
  },
  {
   "cell_type": "markdown",
   "metadata": {
    "collapsed": false
   },
   "source": [
    "### Auxiliary functions"
   ]
  },
  {
   "cell_type": "code",
   "execution_count": 16,
   "metadata": {
    "collapsed": false
   },
   "outputs": [],
   "source": [
    "import elliptic_cylinder as me2\n",
    "import ellipsoid_class_unified as me5"
   ]
  },
  {
   "cell_type": "markdown",
   "metadata": {},
   "source": [
    "### Computation points"
   ]
  },
  {
   "cell_type": "code",
   "execution_count": 17,
   "metadata": {
    "collapsed": false
   },
   "outputs": [],
   "source": [
    "# Geogrphic coordinates grid\n",
    "xmin = -1000.\n",
    "xmax = 1000.\n",
    "ymin = -900.\n",
    "ymax = 900.\n",
    "Nx = 200\n",
    "Ny = 200"
   ]
  },
  {
   "cell_type": "code",
   "execution_count": 18,
   "metadata": {
    "collapsed": true
   },
   "outputs": [],
   "source": [
    "# Create a regular grid at 0m height\n",
    "shape = (Nx, Ny)\n",
    "area = [xmin, xmax, ymin, ymax]\n",
    "Xp, Yp, Zp = gridder.regular(area, shape, z=0.)"
   ]
  },
  {
   "cell_type": "markdown",
   "metadata": {},
   "source": [
    "### Geomagnetic field"
   ]
  },
  {
   "cell_type": "code",
   "execution_count": 19,
   "metadata": {
    "collapsed": true
   },
   "outputs": [],
   "source": [
    "# Set the inclination and declination of the regional field\n",
    "inten, inc, dec  = 60000., 90., 0."
   ]
  },
  {
   "cell_type": "markdown",
   "metadata": {},
   "source": [
    "### Center of the ellipsoid"
   ]
  },
  {
   "cell_type": "code",
   "execution_count": 20,
   "metadata": {
    "collapsed": true
   },
   "outputs": [],
   "source": [
    "#xc position x; yc position y; and zc depth\n",
    "xc = 0.\n",
    "yc = 0.\n",
    "zc = 100."
   ]
  },
  {
   "cell_type": "markdown",
   "metadata": {},
   "source": [
    "### Remanent magnetization and susceptibility direction"
   ]
  },
  {
   "cell_type": "code",
   "execution_count": 21,
   "metadata": {
    "collapsed": true
   },
   "outputs": [],
   "source": [
    "#Remanent vector\n",
    "intensity = 10000.\n",
    "inclirem = 90.\n",
    "declirem = 0.\n",
    "\n",
    "#susceptibility directions\n",
    "intensidadeA = 0.10\n",
    "inclinacaoA = 90.\n",
    "declinacaoA = 0.\n",
    "intensidadeB = 0.10\n",
    "inclinacaoB = 180.\n",
    "declinacaoB = 0.\n",
    "intensidadeC = 0.10\n",
    "inclinacaoC = 0.\n",
    "declinacaoC = 90.\n",
    "k = np.array([[intensidadeA,inclinacaoA,declinacaoA],\n",
    "              [intensidadeB,inclinacaoB,declinacaoB],\n",
    "              [intensidadeC,inclinacaoC,declinacaoC]])"
   ]
  },
  {
   "cell_type": "markdown",
   "metadata": {},
   "source": [
    "### ellipsoid orientation "
   ]
  },
  {
   "cell_type": "code",
   "execution_count": 22,
   "metadata": {
    "collapsed": true
   },
   "outputs": [],
   "source": [
    "azimuth = 90.\n",
    "delta = 0.\n",
    "gamma = 0."
   ]
  },
  {
   "cell_type": "markdown",
   "metadata": {},
   "source": [
    "### Reference axis and axis difference"
   ]
  },
  {
   "cell_type": "code",
   "execution_count": 23,
   "metadata": {
    "collapsed": true
   },
   "outputs": [],
   "source": [
    "daxis = 1.\n",
    "aref = 500000."
   ]
  },
  {
   "cell_type": "markdown",
   "metadata": {},
   "source": [
    "# Implementation  - ellipsoid Clark Triaxial Class"
   ]
  },
  {
   "cell_type": "code",
   "execution_count": 24,
   "metadata": {
    "collapsed": false
   },
   "outputs": [
    {
     "name": "stdout",
     "output_type": "stream",
     "text": [
      "[[9845.1775005992658, 90.0, 6.646324335649333e-15]]\n"
     ]
    }
   ],
   "source": [
    "# ellipsoid axis\n",
    "a = aref\n",
    "b = daxis\n",
    "c = daxis - 0.01\n",
    "\n",
    "################################################################################################################################\n",
    "\n",
    "# Create a ellipsoid model\n",
    "model = [me5.Ellipsoid(Xp, Yp, Zp, xc, yc, zc, a, b, c, azimuth, delta, gamma,\n",
    "                      {'remanence': np.array([10000, 90., 0.]),\n",
    "                       'k1': np.array([0.1, 90., 0.]),\n",
    "                       'k2': np.array([0.1, 180., 0.]),\n",
    "                       'k3': np.array([0.1, 0., 90.])}\n",
    "                      )]\n",
    "\n",
    "# Calculate the anomaly for a given regional field\n",
    "JRD_cart = me5.jrd_cartesiano (inten,inc,dec,model)\n",
    "Bx = me5.bx_c (Xp,Yp,Zp,inten,inc,dec,model)\n",
    "By = me5.by_c (Xp,Yp,Zp,inten,inc,dec,model)\n",
    "Bz = me5.bz_c (Xp,Yp,Zp,inten,inc,dec,model)\n",
    "Tf = me5.tf_c (Xp,Yp,Zp,inten,inc,dec,model)\n",
    "print JRD_cart"
   ]
  },
  {
   "cell_type": "markdown",
   "metadata": {},
   "source": [
    "# Implementation  - Emerson's 2D elliptic Cylinder"
   ]
  },
  {
   "cell_type": "code",
   "execution_count": 25,
   "metadata": {
    "collapsed": false
   },
   "outputs": [],
   "source": [
    "# elliptic cylinder axis\n",
    "b = daxis\n",
    "c = daxis - 0.01\n",
    "\n",
    "Bx_C, Bz_C,Tf_C = me2.elliptic (Xp,Yp,Zp,xc,yc,zc,b,c,delta,declirem,inclirem,intensity,dec,inc,inten,k)"
   ]
  },
  {
   "cell_type": "markdown",
   "metadata": {},
   "source": [
    "## Resultado da minha função"
   ]
  },
  {
   "cell_type": "markdown",
   "metadata": {},
   "source": [
    "### Plot Bx"
   ]
  },
  {
   "cell_type": "code",
   "execution_count": 26,
   "metadata": {
    "collapsed": false
   },
   "outputs": [
    {
     "data": {
      "image/png": "[encoded data removed]",
      "text/plain": [
       "<matplotlib.figure.Figure at 0x18c6c630>"
      ]
     },
     "metadata": {},
     "output_type": "display_data"
    }
   ],
   "source": [
    "rangesBx = np.max(np.abs([np.max(Bx), np.min(Bx),\n",
    "                          np.max(Bx_C), np.min(Bx_C)]))\n",
    "\n",
    "plt.figure(figsize=(15,8))\n",
    "\n",
    "plt.subplot(1,2,1)\n",
    "plt.title('Ellipsoid Triaxial Class', y=1.08)\n",
    "plt.axis('scaled')\n",
    "plt.tricontourf(Yp,Xp,Bx,15,\n",
    "            vmin = -rangesBx, vmax = rangesBx,\n",
    "            cmap=plt.cm.RdBu_r)\n",
    "cb = plt.colorbar(shrink=0.7)\n",
    "cb.set_label('$Bx$ ( $nT$ )', rotation=90, fontsize=14)\n",
    "plt.xlim(ymin,ymax)\n",
    "plt.ylim(xmin,xmax)\n",
    "plt.xticks(fontsize=14)\n",
    "plt.yticks(fontsize=14)\n",
    "plt.xlabel('Horizontal coordinate y (m)', fontsize=14)\n",
    "plt.ylabel('Horizontal coordinate x (m)', fontsize=14)\n",
    "\n",
    "plt.subplot(1,2,2)\n",
    "plt.title('Eliptic Cylinder Function', y=1.08)\n",
    "plt.axis('scaled')\n",
    "plt.tricontourf(Yp,Xp,Bx_C,15,\n",
    "            vmin = -rangesBx, vmax = rangesBx,\n",
    "            cmap=plt.cm.RdBu_r)\n",
    "cb = plt.colorbar(shrink=0.7)\n",
    "cb.set_label('$Bx$ ( $nT$ )', rotation=90, fontsize=14)\n",
    "plt.xlim(ymin,ymax)\n",
    "plt.ylim(xmin,xmax)\n",
    "plt.xticks(fontsize=14)\n",
    "plt.yticks(fontsize=14)\n",
    "plt.xlabel('Horizontal coordinate y (m)', fontsize=14)\n",
    "plt.ylabel('Horizontal coordinate x (m)', fontsize=14)\n",
    "\n",
    "plt.tight_layout()"
   ]
  },
  {
   "cell_type": "markdown",
   "metadata": {},
   "source": [
    "### Plot Bz"
   ]
  },
  {
   "cell_type": "code",
   "execution_count": 27,
   "metadata": {
    "collapsed": false
   },
   "outputs": [
    {
     "data": {
      "image/png": "[encoded data removed]",
      "text/plain": [
       "<matplotlib.figure.Figure at 0x13e44438>"
      ]
     },
     "metadata": {},
     "output_type": "display_data"
    }
   ],
   "source": [
    "rangesBz = np.max(np.abs([np.max(Bz), np.min(Bz),\n",
    "                          np.max(Bz_C), np.min(Bz_C)]))\n",
    "\n",
    "plt.figure(figsize=(15,8))\n",
    "\n",
    "plt.subplot(1,2,1)\n",
    "plt.title('Ellipsoid Triaxial Class', y=1.08)\n",
    "plt.axis('scaled')\n",
    "plt.tricontourf(Yp,Xp,Bz,15,\n",
    "            vmin = -rangesBz, vmax = rangesBz,\n",
    "            cmap=plt.cm.RdBu_r)\n",
    "cb = plt.colorbar(shrink=0.7)\n",
    "cb.set_label('$Bz$ ( $nT$ )', rotation=90, fontsize=14)\n",
    "plt.xlim(ymin,ymax)\n",
    "plt.ylim(xmin,xmax)\n",
    "plt.xticks(fontsize=14)\n",
    "plt.yticks(fontsize=14)\n",
    "plt.xlabel('Horizontal coordinate y (m)', fontsize=14)\n",
    "plt.ylabel('Horizontal coordinate x (m)', fontsize=14)\n",
    "\n",
    "plt.subplot(1,2,2)\n",
    "plt.title('Eliptic Cylinder Function', y=1.08)\n",
    "plt.axis('scaled')\n",
    "plt.tricontourf(Yp,Xp,Bz_C,15,\n",
    "            vmin = -rangesBz, vmax = rangesBz,\n",
    "            cmap=plt.cm.RdBu_r)\n",
    "cb = plt.colorbar(shrink=0.7)\n",
    "cb.set_label('$Bz$ ( $nT$ )', rotation=90, fontsize=14)\n",
    "plt.xlim(ymin,ymax)\n",
    "plt.ylim(xmin,xmax)\n",
    "plt.xticks(fontsize=14)\n",
    "plt.yticks(fontsize=14)\n",
    "plt.xlabel('Horizontal coordinate y (m)', fontsize=14)\n",
    "plt.ylabel('Horizontal coordinate x (m)', fontsize=14)\n",
    "\n",
    "plt.tight_layout()"
   ]
  },
  {
   "cell_type": "markdown",
   "metadata": {},
   "source": [
    "### Plot Approximate total-field anomaly"
   ]
  },
  {
   "cell_type": "code",
   "execution_count": 28,
   "metadata": {
    "collapsed": false
   },
   "outputs": [
    {
     "data": {
      "image/png": "[encoded data removed]",
      "text/plain": [
       "<matplotlib.figure.Figure at 0x189fbe10>"
      ]
     },
     "metadata": {},
     "output_type": "display_data"
    }
   ],
   "source": [
    "rangesTf = np.max(np.abs([np.max(Tf), np.min(Tf),\n",
    "                          np.max(Tf_C), np.min(Tf_C)]))\n",
    "\n",
    "plt.figure(figsize=(15,8))\n",
    "\n",
    "plt.subplot(1,2,1)\n",
    "plt.title('Ellipsoid Triaxial Class', y=1.08)\n",
    "plt.axis('scaled')\n",
    "plt.tricontourf(Yp,Xp,Tf,15,\n",
    "            vmin = -rangesTf, vmax = rangesTf,\n",
    "            cmap=plt.cm.RdBu_r)\n",
    "cb = plt.colorbar(shrink=0.7)\n",
    "cb.set_label('$\\Delta T$ ( $nT$ )', rotation=90, fontsize=14)\n",
    "plt.xlim(ymin,ymax)\n",
    "plt.ylim(xmin,xmax)\n",
    "plt.xticks(fontsize=14)\n",
    "plt.yticks(fontsize=14)\n",
    "plt.xlabel('Horizontal coordinate y (m)', fontsize=14)\n",
    "plt.ylabel('Horizontal coordinate x (m)', fontsize=14)\n",
    "\n",
    "plt.subplot(1,2,2)\n",
    "plt.title('Eliptic Cylinder Function', y=1.08)\n",
    "plt.axis('scaled')\n",
    "plt.tricontourf(Yp,Xp,Tf_C,15,\n",
    "            vmin = -rangesTf, vmax = rangesTf,\n",
    "            cmap=plt.cm.RdBu_r)\n",
    "cb = plt.colorbar(shrink=0.7)\n",
    "cb.set_label('$\\Delta T$ ( $nT$ )', rotation=90, fontsize=14)\n",
    "plt.xlim(ymin,ymax)\n",
    "plt.ylim(xmin,xmax)\n",
    "plt.xticks(fontsize=14)\n",
    "plt.yticks(fontsize=14)\n",
    "plt.xlabel('Horizontal coordinate y (m)', fontsize=14)\n",
    "plt.ylabel('Horizontal coordinate x (m)', fontsize=14)\n",
    "\n",
    "plt.tight_layout()\n",
    "\n",
    "plt.savefig('..\\\\figures\\\\Elipsoid_cylinder_triaxial_Tf.jpeg', dpi = 600, facecolor='w', bbox_inches='tight')"
   ]
  }
 ],
 "metadata": {
  "kernelspec": {
   "display_name": "Python 2",
   "language": "python",
   "name": "python2"
  },
  "language_info": {
   "codemirror_mode": {
    "name": "ipython",
    "version": 2
   },
   "file_extension": ".py",
   "mimetype": "text/x-python",
   "name": "python",
   "nbconvert_exporter": "python",
   "pygments_lexer": "ipython2",
   "version": "2.7.11"
  }
 },
 "nbformat": 4,
 "nbformat_minor": 0
}
