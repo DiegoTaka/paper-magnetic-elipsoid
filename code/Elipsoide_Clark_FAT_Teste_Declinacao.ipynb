{
 "cells": [
  {
   "cell_type": "markdown",
   "metadata": {},
   "source": [
    "## Elipsoide_Clark_FAT_Teste_Declinacao"
   ]
  },
  {
   "cell_type": "markdown",
   "metadata": {},
   "source": [
    "## Coisas para importar"
   ]
  },
  {
   "cell_type": "code",
   "execution_count": 1,
   "metadata": {
    "collapsed": false
   },
   "outputs": [],
   "source": [
    "import numpy as np\n",
    "from scipy import linalg\n",
    "from matplotlib import pyplot as plt\n",
    "\n",
    "from fatiando import mesher, gridder, utils\n",
    "\n",
    "import scipy.special\n",
    "import scipy.interpolate\n",
    "\n",
    "%matplotlib inline"
   ]
  },
  {
   "cell_type": "markdown",
   "metadata": {},
   "source": [
    "## Importar minhas funções de um arquivo externo"
   ]
  },
  {
   "cell_type": "code",
   "execution_count": 2,
   "metadata": {
    "collapsed": false
   },
   "outputs": [],
   "source": [
    "import Elipsoide_Clark_FAT_Unificado as me5"
   ]
  },
  {
   "cell_type": "markdown",
   "metadata": {},
   "source": [
    "#### Fatiando a Terra - Ellipsoid"
   ]
  },
  {
   "cell_type": "code",
   "execution_count": 72,
   "metadata": {
    "collapsed": false
   },
   "outputs": [],
   "source": [
    "# Malha coordenadas geograficas\n",
    "xmin = -1000.\n",
    "xmax = 1000.\n",
    "ymin = -900.\n",
    "ymax = 900.\n",
    "Nx = 200\n",
    "Ny = 200\n",
    "\n",
    "#xc posicao x , yc posição y e zc profundidade reais\n",
    "xc = 0\n",
    "yc = 0\n",
    "zc = 500.\n",
    "\n",
    "# Orientacoes do elipsoide\n",
    "azimuth = 05.\n",
    "delta = 40.\n",
    "gamma = 0.\n",
    "\n",
    "# Eixos do elipsoide\n",
    "a = np.linspace(50.00001, 3000., 25)\n",
    "b = 10.00000\n",
    "c = 9.99999\n",
    "\n",
    "# Create a regular grid at 0m height\n",
    "shape = (Nx, Ny)\n",
    "area = [xmin, xmax, ymin, ymax]\n",
    "Xp, Yp, Zp = gridder.regular(area, shape, z=0.)\n",
    "\n",
    "# Set the inclination and declination of the regional field\n",
    "inten, inc, dec  = 60000., 0., 90.    #nT, graus, graus\n",
    "\n",
    "################################################################################################################################\n",
    "################################################################################################################################\n",
    "model1 = []\n",
    "# Create a ellipsoid model (Triaxial)\n",
    "for i in range (len(a)):\n",
    "    model1.append(me5.Ellipsoid(Xp, Yp, Zp, xc, yc, zc, a[i], b, c, azimuth, delta, gamma, \n",
    "                              {'remanence': np.array([0., 0., 25.84]),\n",
    "                               'k1': np.array([100000.5001, 90., 0.]),\n",
    "                               'k2': np.array([100000.5001, 180., 0.]),\n",
    "                               'k3': np.array([100000.5001, 0., 90.])}\n",
    "                              ))"
   ]
  },
  {
   "cell_type": "code",
   "execution_count": 73,
   "metadata": {
    "collapsed": false
   },
   "outputs": [],
   "source": [
    "# Calculate the anomaly for a given regional field (Triaxial)\n",
    "JRD_cart = me5.jrd_cartesiano (inten,inc,dec,model1)\n",
    "Bx = me5.bx_c (Xp,Yp,Zp,inten,inc,dec,model1)\n",
    "By = me5.by_c (Xp,Yp,Zp,inten,inc,dec,model1)\n",
    "Bz = me5.bz_c (Xp,Yp,Zp,inten,inc,dec,model1)\n",
    "Tf = me5.tf_c (Xp,Yp,Zp,inten,inc,dec,model1)\n",
    "\n",
    "Bx = np.reshape(Bx, shape)\n",
    "By = np.reshape(By, shape)\n",
    "Bz = np.reshape(Bz, shape)\n",
    "Tf = np.reshape(Tf, shape)\n",
    "\n",
    "vetor_dec = np.zeros_like(a)\n",
    "for i in range (len(a)):\n",
    "    vetor_dec[i] = JRD_cart[i][2]\n",
    "    \n",
    "eixo = a/(b+c)"
   ]
  },
  {
   "cell_type": "code",
   "execution_count": 74,
   "metadata": {
    "collapsed": false
   },
   "outputs": [],
   "source": [
    "v1 = model1[0].mcon[0,:]"
   ]
  },
  {
   "cell_type": "code",
   "execution_count": 75,
   "metadata": {
    "collapsed": false
   },
   "outputs": [],
   "source": [
    "v1_int, v1_inc, v1_dec = utils.vec2ang(v1)"
   ]
  },
  {
   "cell_type": "code",
   "execution_count": 76,
   "metadata": {
    "collapsed": false
   },
   "outputs": [
    {
     "data": {
      "text/plain": [
       "(0.99999999999999989, -40.000000000000007, 4.9999999999999876)"
      ]
     },
     "execution_count": 76,
     "metadata": {},
     "output_type": "execute_result"
    }
   ],
   "source": [
    "v1_int, v1_inc, v1_dec"
   ]
  },
  {
   "cell_type": "code",
   "execution_count": 77,
   "metadata": {
    "collapsed": false
   },
   "outputs": [
    {
     "data": {
      "text/plain": [
       "[[11595.072420229691, -16.209217833937203, 69.81050605736975],\n",
       " [38491.606946624415, -37.711992561852128, 23.366908794128332],\n",
       " [90890.447328043316, -39.397439401129219, 12.811848225328694],\n",
       " [163139.80103461805, -39.72989040774214, 9.3569529929486848],\n",
       " [253684.34205037801, -39.845189668357648, 7.803026059176104],\n",
       " [361640.57239221974, -39.898524409259039, 6.9666633655562178],\n",
       " [486379.06855926791, -39.927738597722765, 6.462450174391754],\n",
       " [627406.82621419418, -39.945592244196497, 6.1338018283459919],\n",
       " [784316.47991209978, -39.957365916095185, 5.9070169940674075],\n",
       " [956759.25794312858, -39.965575216944814, 5.7435641669267845],\n",
       " [1144428.7349413277, -39.971547762171241, 5.6216456622008133],\n",
       " [1347050.2811972452, -39.976040790606483, 5.5281482337322325],\n",
       " [1564373.8250872951, -39.979513307762559, 5.4547841231485208],\n",
       " [1796168.6803481223, -39.982257488441057, 5.3960988977630926],\n",
       " [2042219.7288617368, -39.984466931183412, 5.3483792328759883],\n",
       " [2302324.5303048557, -39.986274291182646, 5.3090234551132358],\n",
       " [2576291.0867929226, -39.987773085572393, 5.276163172162633],\n",
       " [2863936.0832329374, -39.989030868947559, 5.2484274891358202],\n",
       " [3165083.4812484737, -39.990097485518305, 5.2247914231024071],\n",
       " [3479563.3811674295, -39.99101040066266, 5.2044757513746767],\n",
       " [3807211.0907671168, -39.991798240482126, 5.1868792318765351],\n",
       " [4147866.3559536603, -39.992483198527054, 5.1715317386432513],\n",
       " [4501372.7199252015, -39.993082707441125, 5.1580612320561539],\n",
       " [4867576.9855741151, -39.993610622336398, 5.1461700755870385],\n",
       " [5246328.7617070703, -39.994078072976876, 5.1356177864919603]]"
      ]
     },
     "execution_count": 77,
     "metadata": {},
     "output_type": "execute_result"
    }
   ],
   "source": [
    "JRD_cart"
   ]
  },
  {
   "cell_type": "markdown",
   "metadata": {},
   "source": [
    "## Resultado da minha função"
   ]
  },
  {
   "cell_type": "code",
   "execution_count": 78,
   "metadata": {
    "collapsed": false
   },
   "outputs": [
    {
     "data": {
      "image/png": "[encoded data removed]",
      "text/plain": [
       "<matplotlib.figure.Figure at 0x28b7e048>"
      ]
     },
     "metadata": {},
     "output_type": "display_data"
    }
   ],
   "source": [
    "plt.figure(figsize=(8,8))\n",
    "\n",
    "plt.plot(eixo, vetor_dec, '-ko')\n",
    "plt.xlabel('Proporcao eixos [a/(b+c)] (m)')\n",
    "plt.ylabel('Declinacao (graus)')\n",
    "plt.title('Comparacao de declinacao')\n",
    "plt.grid(True)\n",
    "plt.legend()\n",
    "plt.show()"
   ]
  }
 ],
 "metadata": {
  "kernelspec": {
   "display_name": "Python 2",
   "language": "python",
   "name": "python2"
  },
  "language_info": {
   "codemirror_mode": {
    "name": "ipython",
    "version": 2
   },
   "file_extension": ".py",
   "mimetype": "text/x-python",
   "name": "python",
   "nbconvert_exporter": "python",
   "pygments_lexer": "ipython2",
   "version": "2.7.11"
  }
 },
 "nbformat": 4,
 "nbformat_minor": 0
}
