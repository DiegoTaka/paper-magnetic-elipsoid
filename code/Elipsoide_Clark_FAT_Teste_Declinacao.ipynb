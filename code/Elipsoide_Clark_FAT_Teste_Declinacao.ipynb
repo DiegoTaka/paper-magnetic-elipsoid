{
 "cells": [
  {
   "cell_type": "markdown",
   "metadata": {},
   "source": [
    "## Elipsoide_Clark_FAT_Teste_Declinacao"
   ]
  },
  {
   "cell_type": "markdown",
   "metadata": {},
   "source": [
    "## Coisas para importar"
   ]
  },
  {
   "cell_type": "code",
   "execution_count": 146,
   "metadata": {
    "collapsed": false
   },
   "outputs": [],
   "source": [
    "import numpy as np\n",
    "from scipy import linalg\n",
    "from matplotlib import pyplot as plt\n",
    "\n",
    "from fatiando import mesher, gridder, utils\n",
    "\n",
    "import scipy.special\n",
    "import scipy.interpolate\n",
    "\n",
    "%matplotlib inline"
   ]
  },
  {
   "cell_type": "markdown",
   "metadata": {},
   "source": [
    "## Importar minhas funções de um arquivo externo"
   ]
  },
  {
   "cell_type": "code",
   "execution_count": 147,
   "metadata": {
    "collapsed": false
   },
   "outputs": [],
   "source": [
    "import Elipsoide_Clark_FAT_Unificado as me5"
   ]
  },
  {
   "cell_type": "markdown",
   "metadata": {},
   "source": [
    "#### Fatiando a Terra - Ellipsoid"
   ]
  },
  {
   "cell_type": "code",
   "execution_count": 148,
   "metadata": {
    "collapsed": false
   },
   "outputs": [],
   "source": [
    "# Malha coordenadas geograficas\n",
    "xmin = -1000.\n",
    "xmax = 1000.\n",
    "ymin = -900.\n",
    "ymax = 900.\n",
    "Nx = 200\n",
    "Ny = 200\n",
    "\n",
    "#xc posicao x , yc posição y e zc profundidade reais\n",
    "xc = 0\n",
    "yc = 0\n",
    "zc = 500.\n",
    "\n",
    "# Orientacoes do elipsoide\n",
    "azimuth = 05.\n",
    "delta = 0.\n",
    "gamma = 0.\n",
    "\n",
    "# Eixos do elipsoide\n",
    "a = np.linspace(50.00001, 3000., 25)\n",
    "b = 50.00000\n",
    "c = 49.99999\n",
    "\n",
    "# Create a regular grid at 0m height\n",
    "shape = (Nx, Ny)\n",
    "area = [xmin, xmax, ymin, ymax]\n",
    "Xp, Yp, Zp = gridder.regular(area, shape, z=0.)\n",
    "\n",
    "# Set the inclination and declination of the regional field\n",
    "inten, inc, dec  = 60000., 0., 90.    #nT, graus, graus\n",
    "\n",
    "################################################################################################################################\n",
    "################################################################################################################################\n",
    "model1 = []\n",
    "# Create a ellipsoid model (Triaxial)\n",
    "for i in range (len(a)):\n",
    "    model1.append(me5.Ellipsoid(Xp, Yp, Zp, xc, yc, zc, a[i], b, c, azimuth, delta, gamma, \n",
    "                              {'remanence': np.array([10000, 0., 25.84]),\n",
    "                               'k1': np.array([5.5001, 90., 0.]),\n",
    "                               'k2': np.array([5.5001, 180., 0.]),\n",
    "                               'k3': np.array([5.5001, 0., 90.])}\n",
    "                              ))"
   ]
  },
  {
   "cell_type": "code",
   "execution_count": 149,
   "metadata": {
    "collapsed": false
   },
   "outputs": [],
   "source": [
    "# Calculate the anomaly for a given regional field (Triaxial)\n",
    "JRD_cart = me5.jrd_cartesiano (inten,inc,dec,model1)\n",
    "Bx = me5.bx_c (Xp,Yp,Zp,inten,inc,dec,model1)\n",
    "By = me5.by_c (Xp,Yp,Zp,inten,inc,dec,model1)\n",
    "Bz = me5.bz_c (Xp,Yp,Zp,inten,inc,dec,model1)\n",
    "Tf = me5.tf_c (Xp,Yp,Zp,inten,inc,dec,model1)\n",
    "\n",
    "Bx = np.reshape(Bx, shape)\n",
    "By = np.reshape(By, shape)\n",
    "Bz = np.reshape(Bz, shape)\n",
    "Tf = np.reshape(Tf, shape)\n",
    "\n",
    "vetor_dec = np.zeros_like(a)\n",
    "for i in range (len(a)):\n",
    "    vetor_dec[i] = JRD_cart[i][2]\n",
    "    \n",
    "eixo = a/(b+c)"
   ]
  },
  {
   "cell_type": "code",
   "execution_count": 150,
   "metadata": {
    "collapsed": false
   },
   "outputs": [
    {
     "data": {
      "text/plain": [
       "[[13913.678415807757, 0.0, 88.457776115849427],\n",
       " [11507.722395340354, 0.0, 67.989525231550417],\n",
       " [13563.179610586592, 0.0, 51.045070944499606],\n",
       " [16515.991418158854, 0.0, 40.508696237681171],\n",
       " [19493.743497494434, 0.0, 34.203507588469932],\n",
       " [22175.289437435327, 0.0, 30.26718115938089],\n",
       " [24480.186951080548, 0.0, 27.673594987582121],\n",
       " [26422.848971576557, 0.0, 25.880099396863216],\n",
       " [28049.007074926507, 0.0, 24.588830738479889],\n",
       " [29409.764753340689, 0.0, 23.627723041541611],\n",
       " [30551.966104425857, 0.0, 22.892382908931864],\n",
       " [31515.406193407907, 0.0, 22.316661297608906],\n",
       " [32332.750193218799, 0.0, 21.857034566346634],\n",
       " [33030.39405245005, 0.0, 21.483920051647093],\n",
       " [33629.538071873852, 0.0, 21.176637077171812],\n",
       " [34147.195524235583, 0.0, 20.920369679507676],\n",
       " [34597.049498254615, 0.0, 20.704273286659969],\n",
       " [34990.148035623795, 0.0, 20.520258357509018],\n",
       " [35335.455556441819, 0.0, 20.362188315586042],\n",
       " [35640.285501235951, 0.0, 20.225337554294988],\n",
       " [35910.638411259242, 0.0, 20.106017685043827],\n",
       " [36151.465970976904, 0.0, 20.001314595402018],\n",
       " [36366.877645696804, 0.0, 19.908900295396812],\n",
       " [36560.302979513333, 0.0, 19.826896334719375],\n",
       " [36734.619567722293, 0.0, 19.753772951586566]]"
      ]
     },
     "execution_count": 150,
     "metadata": {},
     "output_type": "execute_result"
    }
   ],
   "source": [
    "JRD_cart"
   ]
  },
  {
   "cell_type": "markdown",
   "metadata": {},
   "source": [
    "## Resultado da minha função"
   ]
  },
  {
   "cell_type": "code",
   "execution_count": 151,
   "metadata": {
    "collapsed": false
   },
   "outputs": [
    {
     "data": {
      "image/png": "[encoded data removed]",
      "text/plain": [
       "<matplotlib.figure.Figure at 0x28d84940>"
      ]
     },
     "metadata": {},
     "output_type": "display_data"
    }
   ],
   "source": [
    "plt.figure(figsize=(8,8))\n",
    "\n",
    "plt.plot(eixo, vetor_dec, '-ko')\n",
    "plt.xlabel('Proporcao eixos [a/(b+c)] (m)')\n",
    "plt.ylabel('Declinacao (graus)')\n",
    "plt.title('Comparacao de declinacao')\n",
    "plt.grid(True)\n",
    "plt.legend()\n",
    "plt.show()"
   ]
  }
 ],
 "metadata": {
  "kernelspec": {
   "display_name": "Python 2",
   "language": "python",
   "name": "python2"
  },
  "language_info": {
   "codemirror_mode": {
    "name": "ipython",
    "version": 2
   },
   "file_extension": ".py",
   "mimetype": "text/x-python",
   "name": "python",
   "nbconvert_exporter": "python",
   "pygments_lexer": "ipython2",
   "version": "2.7.11"
  }
 },
 "nbformat": 4,
 "nbformat_minor": 0
}
