{
 "cells": [
  {
   "cell_type": "code",
   "execution_count": 1,
   "metadata": {
    "collapsed": true
   },
   "outputs": [],
   "source": [
    "%matplotlib inline"
   ]
  },
  {
   "cell_type": "code",
   "execution_count": 2,
   "metadata": {
    "collapsed": false
   },
   "outputs": [
    {
     "name": "stderr",
     "output_type": "stream",
     "text": [
      "C:\\Users\\Vanderlei\\Documents\\fatiando\\fatiando\\vis\\mpl.py:76: UserWarning: This module will be removed in v0.6. We recommend the use of matplotlib.pyplot module directly. Some of the fatiando specific functions will remain.\n",
      "  \"specific functions will remain.\")\n"
     ]
    }
   ],
   "source": [
    "import numpy as np\n",
    "from matplotlib import pyplot as plt\n",
    "from fatiando.gravmag import ellipsoid_triaxial\n",
    "from fatiando import mesher, gridder, utils"
   ]
  },
  {
   "cell_type": "code",
   "execution_count": 3,
   "metadata": {
    "collapsed": true
   },
   "outputs": [],
   "source": [
    "import ellipsoid_triaxial_func as me2"
   ]
  },
  {
   "cell_type": "code",
   "execution_count": 4,
   "metadata": {
    "collapsed": true
   },
   "outputs": [],
   "source": [
    "# Geogrphic coordinates grid\n",
    "xmin = -1000.\n",
    "xmax = 1000.\n",
    "ymin = -900.\n",
    "ymax = 900.\n",
    "Nx = 200\n",
    "Ny = 200\n",
    "\n",
    "# Create a regular grid at 0m height\n",
    "shape = (Nx, Ny)\n",
    "area = [xmin, xmax, ymin, ymax]\n",
    "Xp, Yp, Zp = gridder.regular(area, shape, z=0.)\n",
    "\n",
    "# Set the inclination and declination of the regional field\n",
    "inten, inc, dec  = 60000., 90., 0.\n",
    "\n",
    "#xc position x; yc position y; and zc depth\n",
    "xc = 0.\n",
    "yc = 0.\n",
    "zc = 100.\n",
    "\n",
    "#Remanent vector\n",
    "intensity_rem = 10000.\n",
    "incli_rem = 90.\n",
    "decli_rem = 0.\n",
    "\n",
    "#susceptibility directions\n",
    "intensidadeA = 0.2\n",
    "inclinacaoA = -90.\n",
    "declinacaoA = 0.\n",
    "intensidadeB = 0.1\n",
    "inclinacaoB = 0.\n",
    "declinacaoB = 90.\n",
    "intensidadeC = 0.05\n",
    "inclinacaoC = 0.\n",
    "declinacaoC = 0.\n",
    "k = np.array([[intensidadeA,inclinacaoA,declinacaoA],\n",
    "              [intensidadeB,inclinacaoB,declinacaoB],\n",
    "              [intensidadeC,inclinacaoC,declinacaoC]])\n",
    "\n",
    "azimuth = 0.\n",
    "delta = 0.\n",
    "gamma = 0.\n",
    "\n",
    "daxis = 20.\n",
    "aref = 50."
   ]
  },
  {
   "cell_type": "markdown",
   "metadata": {},
   "source": [
    "# Implementation  -  Clark's Ellipsoid Triaxial Function"
   ]
  },
  {
   "cell_type": "code",
   "execution_count": 5,
   "metadata": {
    "collapsed": false
   },
   "outputs": [
    {
     "name": "stdout",
     "output_type": "stream",
     "text": [
      "[[  5.00000000e-02   1.22464680e-17   0.00000000e+00]\n",
      " [  1.22464680e-17   2.00000000e-01   1.49975978e-33]\n",
      " [  0.00000000e+00   1.49975978e-33   1.00000000e-01]]\n"
     ]
    }
   ],
   "source": [
    "# ellipsoid axis\n",
    "a = aref + daxis\n",
    "b = aref\n",
    "c = aref - 0.01\n",
    "\n",
    "Bx_T, By_T, Bz_T,Tf_T = me2.ellipsoid (Xp,Yp,Zp,xc,yc,zc,a,b,c,\n",
    "                                       azimuth,delta,gamma,decli_rem,incli_rem,intensity_rem,dec,inc,inten,k)"
   ]
  },
  {
   "cell_type": "markdown",
   "metadata": {},
   "source": [
    "# Implementation  -  Clark's Ellipsoid Triaxial FAT"
   ]
  },
  {
   "cell_type": "code",
   "execution_count": 6,
   "metadata": {
    "collapsed": false
   },
   "outputs": [
    {
     "name": "stdout",
     "output_type": "stream",
     "text": [
      "[[  5.00000000e-02   9.18485099e-18  -3.06161700e-18]\n",
      " [  9.18485099e-18   2.00000000e-01   1.87469973e-34]\n",
      " [ -3.06161700e-18   1.87469973e-34   1.00000000e-01]]\n",
      "[[  5.00000000e-02   9.18485099e-18  -3.06161700e-18]\n",
      " [  9.18485099e-18   2.00000000e-01   1.87469973e-34]\n",
      " [ -3.06161700e-18   1.87469973e-34   1.00000000e-01]]\n",
      "[[  5.00000000e-02   9.18485099e-18  -3.06161700e-18]\n",
      " [  9.18485099e-18   2.00000000e-01   1.87469973e-34]\n",
      " [ -3.06161700e-18   1.87469973e-34   1.00000000e-01]]\n",
      "[[  5.00000000e-02   9.18485099e-18  -3.06161700e-18]\n",
      " [  9.18485099e-18   2.00000000e-01   1.87469973e-34]\n",
      " [ -3.06161700e-18   1.87469973e-34   1.00000000e-01]]\n"
     ]
    }
   ],
   "source": [
    "model = [mesher.EllipsoidTriaxial(xc,yc,zc,a,b,c,azimuth,delta,gamma, \n",
    "                                 {'remanence': [intensity_rem, incli_rem, decli_rem],\n",
    "                                  'k': [intensidadeA, intensidadeB, intensidadeC, 0., 90., 90.]})]\n",
    "\n",
    "Bx = ellipsoid_triaxial.bx_c(Xp,Yp,Zp,inten,inc,dec,model)\n",
    "By = ellipsoid_triaxial.by_c(Xp,Yp,Zp,inten,inc,dec,model)\n",
    "Bz = ellipsoid_triaxial.bz_c(Xp,Yp,Zp,inten,inc,dec,model)\n",
    "Tf = ellipsoid_triaxial.tf_c(Xp,Yp,Zp,inten,inc,dec,model)"
   ]
  },
  {
   "cell_type": "markdown",
   "metadata": {},
   "source": [
    "## Results"
   ]
  },
  {
   "cell_type": "markdown",
   "metadata": {},
   "source": [
    "### Plot Bx"
   ]
  },
  {
   "cell_type": "code",
   "execution_count": null,
   "metadata": {
    "collapsed": false
   },
   "outputs": [],
   "source": [
    "rangesBx = np.max(np.abs([np.max(Bx), np.min(Bx),\n",
    "                          np.max(Bx_T), np.min(Bx_T)]))\n",
    "\n",
    "plt.figure(figsize=(15,8))\n",
    "\n",
    "plt.subplot(1,2,1)\n",
    "plt.title('Ellipsoid Triaxial Class', y=1.08)\n",
    "plt.axis('scaled')\n",
    "plt.tricontourf(Yp,Xp,Bx,15,\n",
    "            vmin = -rangesBx, vmax = rangesBx,\n",
    "            cmap=plt.cm.RdBu_r)\n",
    "cb = plt.colorbar(shrink=0.7)\n",
    "cb.set_label('$Bx$ ( $nT$ )', rotation=90, fontsize=14)\n",
    "plt.xlim(ymin,ymax)\n",
    "plt.ylim(xmin,xmax)\n",
    "plt.xticks(fontsize=14)\n",
    "plt.yticks(fontsize=14)\n",
    "plt.xlabel('Horizontal coordinate y (m)', fontsize=14)\n",
    "plt.ylabel('Horizontal coordinate x (m)', fontsize=14)\n",
    "\n",
    "plt.subplot(1,2,2)\n",
    "plt.title('Ellipsoid Triaxial Function', y=1.08)\n",
    "plt.axis('scaled')\n",
    "plt.tricontourf(Yp,Xp,Bx_T,15,\n",
    "            vmin = -rangesBx, vmax = rangesBx,\n",
    "            cmap=plt.cm.RdBu_r)\n",
    "cb = plt.colorbar(shrink=0.7)\n",
    "cb.set_label('$Bx$ ( $nT$ )', rotation=90, fontsize=14)\n",
    "plt.xlim(ymin,ymax)\n",
    "plt.ylim(xmin,xmax)\n",
    "plt.xticks(fontsize=14)\n",
    "plt.yticks(fontsize=14)\n",
    "plt.xlabel('Horizontal coordinate y (m)', fontsize=14)\n",
    "plt.ylabel('Horizontal coordinate x (m)', fontsize=14)\n",
    "\n",
    "plt.tight_layout()"
   ]
  },
  {
   "cell_type": "markdown",
   "metadata": {},
   "source": [
    "### Plot By"
   ]
  },
  {
   "cell_type": "code",
   "execution_count": null,
   "metadata": {
    "collapsed": false
   },
   "outputs": [],
   "source": [
    "rangesBy = np.max(np.abs([np.max(By), np.min(By),\n",
    "                          np.max(By_T), np.min(By_T)]))\n",
    "\n",
    "plt.figure(figsize=(15,8))\n",
    "\n",
    "plt.subplot(1,2,1)\n",
    "plt.title('Ellipsoid Triaxial Class', y=1.08)\n",
    "plt.axis('scaled')\n",
    "plt.tricontourf(Yp,Xp,By,15,\n",
    "            vmin = -rangesBy, vmax = rangesBy,\n",
    "            cmap=plt.cm.RdBu_r)\n",
    "cb = plt.colorbar(shrink=0.7)\n",
    "cb.set_label('$By$ ( $nT$ )', rotation=90, fontsize=14)\n",
    "plt.xlim(ymin,ymax)\n",
    "plt.ylim(xmin,xmax)\n",
    "plt.xticks(fontsize=14)\n",
    "plt.yticks(fontsize=14)\n",
    "plt.xlabel('Horizontal coordinate y (m)', fontsize=14)\n",
    "plt.ylabel('Horizontal coordinate x (m)', fontsize=14)\n",
    "\n",
    "plt.subplot(1,2,2)\n",
    "plt.title('Ellipsoid Triaxial Function', y=1.08)\n",
    "plt.axis('scaled')\n",
    "plt.tricontourf(Yp,Xp,By_T,15,\n",
    "            vmin = -rangesBy, vmax = rangesBy,\n",
    "            cmap=plt.cm.RdBu_r)\n",
    "cb = plt.colorbar(shrink=0.7)\n",
    "cb.set_label('$By$ ( $nT$ )', rotation=90, fontsize=14)\n",
    "plt.xlim(ymin,ymax)\n",
    "plt.ylim(xmin,xmax)\n",
    "plt.xticks(fontsize=14)\n",
    "plt.yticks(fontsize=14)\n",
    "plt.xlabel('Horizontal coordinate y (m)', fontsize=14)\n",
    "plt.ylabel('Horizontal coordinate x (m)', fontsize=14)\n",
    "\n",
    "plt.tight_layout()"
   ]
  },
  {
   "cell_type": "markdown",
   "metadata": {},
   "source": [
    "### Plot Bz"
   ]
  },
  {
   "cell_type": "code",
   "execution_count": null,
   "metadata": {
    "collapsed": false
   },
   "outputs": [],
   "source": [
    "rangesBz = np.max(np.abs([np.max(Bz), np.min(Bz),\n",
    "                          np.max(Bz_T), np.min(Bz_T)]))\n",
    "\n",
    "plt.figure(figsize=(15,8))\n",
    "\n",
    "plt.subplot(1,2,1)\n",
    "plt.title('Ellipsoid Triaxial Class', y=1.08)\n",
    "plt.axis('scaled')\n",
    "plt.tricontourf(Yp,Xp,Bz,15,\n",
    "            vmin = -rangesBz, vmax = rangesBz,\n",
    "            cmap=plt.cm.RdBu_r)\n",
    "cb = plt.colorbar(shrink=0.7)\n",
    "cb.set_label('$Bz$ ( $nT$ )', rotation=90, fontsize=14)\n",
    "plt.xlim(ymin,ymax)\n",
    "plt.ylim(xmin,xmax)\n",
    "plt.xticks(fontsize=14)\n",
    "plt.yticks(fontsize=14)\n",
    "plt.xlabel('Horizontal coordinate y (m)', fontsize=14)\n",
    "plt.ylabel('Horizontal coordinate x (m)', fontsize=14)\n",
    "\n",
    "plt.subplot(1,2,2)\n",
    "plt.title('Ellipsoid Triaxial Function', y=1.08)\n",
    "plt.axis('scaled')\n",
    "plt.tricontourf(Yp,Xp,Bz_T,15,\n",
    "            vmin = -rangesBz, vmax = rangesBz,\n",
    "            cmap=plt.cm.RdBu_r)\n",
    "cb = plt.colorbar(shrink=0.7)\n",
    "cb.set_label('$Bz$ ( $nT$ )', rotation=90, fontsize=14)\n",
    "plt.xlim(ymin,ymax)\n",
    "plt.ylim(xmin,xmax)\n",
    "plt.xticks(fontsize=14)\n",
    "plt.yticks(fontsize=14)\n",
    "plt.xlabel('Horizontal coordinate y (m)', fontsize=14)\n",
    "plt.ylabel('Horizontal coordinate x (m)', fontsize=14)\n",
    "\n",
    "plt.tight_layout()"
   ]
  },
  {
   "cell_type": "markdown",
   "metadata": {},
   "source": [
    "### Plot Tf"
   ]
  },
  {
   "cell_type": "code",
   "execution_count": null,
   "metadata": {
    "collapsed": false
   },
   "outputs": [],
   "source": [
    "rangesTf = np.max(np.abs([np.max(Tf), np.min(Tf),\n",
    "                          np.max(Tf_T), np.min(Tf_T)]))\n",
    "\n",
    "plt.figure(figsize=(15,8))\n",
    "\n",
    "plt.subplot(1,2,1)\n",
    "plt.title('Ellipsoid Triaxial Class', y=1.08)\n",
    "plt.axis('scaled')\n",
    "plt.tricontourf(Yp,Xp,Tf,15,\n",
    "            vmin = -rangesTf, vmax = rangesTf,\n",
    "            cmap=plt.cm.RdBu_r)\n",
    "cb = plt.colorbar(shrink=0.7)\n",
    "cb.set_label('$Bz$ ( $nT$ )', rotation=90, fontsize=14)\n",
    "plt.xlim(ymin,ymax)\n",
    "plt.ylim(xmin,xmax)\n",
    "plt.xticks(fontsize=14)\n",
    "plt.yticks(fontsize=14)\n",
    "plt.xlabel('Horizontal coordinate y (m)', fontsize=14)\n",
    "plt.ylabel('Horizontal coordinate x (m)', fontsize=14)\n",
    "\n",
    "plt.subplot(1,2,2)\n",
    "plt.title('Ellipsoid Triaxial Function', y=1.08)\n",
    "plt.axis('scaled')\n",
    "plt.tricontourf(Yp,Xp,Tf_T,15,\n",
    "            vmin = -rangesTf, vmax = rangesTf,\n",
    "            cmap=plt.cm.RdBu_r)\n",
    "cb = plt.colorbar(shrink=0.7)\n",
    "cb.set_label('$Bz$ ( $nT$ )', rotation=90, fontsize=14)\n",
    "plt.xlim(ymin,ymax)\n",
    "plt.ylim(xmin,xmax)\n",
    "plt.xticks(fontsize=14)\n",
    "plt.yticks(fontsize=14)\n",
    "plt.xlabel('Horizontal coordinate y (m)', fontsize=14)\n",
    "plt.ylabel('Horizontal coordinate x (m)', fontsize=14)\n",
    "\n",
    "plt.tight_layout()"
   ]
  },
  {
   "cell_type": "code",
   "execution_count": null,
   "metadata": {
    "collapsed": true
   },
   "outputs": [],
   "source": []
  }
 ],
 "metadata": {
  "anaconda-cloud": {},
  "kernelspec": {
   "display_name": "Python [default]",
   "language": "python",
   "name": "python2"
  },
  "language_info": {
   "codemirror_mode": {
    "name": "ipython",
    "version": 2
   },
   "file_extension": ".py",
   "mimetype": "text/x-python",
   "name": "python",
   "nbconvert_exporter": "python",
   "pygments_lexer": "ipython2",
   "version": "2.7.10"
  }
 },
 "nbformat": 4,
 "nbformat_minor": 1
}
