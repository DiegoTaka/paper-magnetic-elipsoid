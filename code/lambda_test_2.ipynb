{
 "cells": [
  {
   "cell_type": "markdown",
   "metadata": {},
   "source": [
    "# Code for testing the calculated lambda "
   ]
  },
  {
   "cell_type": "code",
   "execution_count": 1,
   "metadata": {
    "collapsed": true
   },
   "outputs": [],
   "source": [
    "#%matplotlib inline"
   ]
  },
  {
   "cell_type": "code",
   "execution_count": 2,
   "metadata": {
    "collapsed": false
   },
   "outputs": [],
   "source": [
    "from mpl_toolkits.mplot3d import axes3d\n",
    "import matplotlib.pyplot as plt\n",
    "import numpy as np"
   ]
  },
  {
   "cell_type": "markdown",
   "metadata": {},
   "source": [
    "### Auxiliary functions"
   ]
  },
  {
   "cell_type": "code",
   "execution_count": 3,
   "metadata": {
    "collapsed": false
   },
   "outputs": [],
   "source": [
    "import auxiliary_functions as afun\n",
    "import ellipsoid_oblate as oblate\n",
    "import ellipsoid_prolate as prolate\n",
    "import ellipsoid_triaxial as triaxial"
   ]
  },
  {
   "cell_type": "markdown",
   "metadata": {},
   "source": [
    "### Ellipsoidal model"
   ]
  },
  {
   "cell_type": "code",
   "execution_count": 8,
   "metadata": {
    "collapsed": false
   },
   "outputs": [],
   "source": [
    "# Set of all spherical angles:\n",
    "u = np.linspace(0, 2 * np.pi, 100)\n",
    "v = np.linspace(0, np.pi, 100)\n",
    "\n",
    "# orientation angles (in degrees)\n",
    "alpha = 360.*np.random.rand()\n",
    "gamma = 90.*np.random.rand()\n",
    "delta = 90.*np.random.rand()\n",
    "\n",
    "# axes\n",
    "a = 100.*np.random.rand()\n",
    "b = 0.8*a\n",
    "c = 0.6*a\n",
    "\n",
    "# center of the ellipsoid\n",
    "xc = 10.\n",
    "yc = 0.\n",
    "zc = 1.5*a\n",
    "\n",
    "# coordinate transformation matrix\n",
    "V = afun.V_triaxial(alpha, gamma, delta)\n",
    "\n",
    "# Cartesian coordinates of points on the surface of the \n",
    "# ellipsoid. The coordinates are referred to the body system\n",
    "# (https://en.wikipedia.org/wiki/Ellipsoid)\n",
    "x1 = a * np.outer(np.cos(u), np.sin(v))\n",
    "x2 = b * np.outer(np.sin(u), np.sin(v))\n",
    "x3 = c * np.outer(np.ones_like(u), np.cos(v))\n",
    "\n",
    "# Cartesian coordinates of points on the surface of the \n",
    "# ellipsoid. The coordinates are referred to the main system\n",
    "x = V[0,0]*x1 + V[0,1]*x2 + V[0,2]*x3 + xc\n",
    "y = V[1,0]*x1 + V[1,1]*x2 + V[1,2]*x3 + yc\n",
    "z = V[2,0]*x1 + V[2,1]*x2 + V[2,2]*x3 + zc"
   ]
  },
  {
   "cell_type": "code",
   "execution_count": 9,
   "metadata": {
    "collapsed": false
   },
   "outputs": [],
   "source": [
    "lamb, _, _, _, _, _, _ = triaxial.lamb_T(np.array([a, b, c]), np.ravel(x1), np.ravel(x2), np.ravel(x3))"
   ]
  },
  {
   "cell_type": "code",
   "execution_count": 10,
   "metadata": {
    "collapsed": false
   },
   "outputs": [],
   "source": [
    "ones = []\n",
    "for x1i, x2i, x3i, xi, yi, zi, lambi in zip(np.ravel(x1), np.ravel(x2), np.ravel(x3), \n",
    "                                            np.ravel(x), np.ravel(y), np.ravel(z),\n",
    "                                            lamb):\n",
    "    Lamb = np.diag([1./(a**2 + lambi), 1./(b**2 + lambi), 1./(c**2 + lambi)])\n",
    "    A = np.dot(np.dot(V, Lamb), V.T)\n",
    "    #r = np.array([x1i, x2i, x3i])\n",
    "    r = np.array([(xi - xc), (yi - yc), (zi - zc)])\n",
    "    ones.append(np.dot(np.dot(r,A),r))\n",
    "ones = np.array(ones)"
   ]
  },
  {
   "cell_type": "code",
   "execution_count": 11,
   "metadata": {
    "collapsed": false
   },
   "outputs": [
    {
     "data": {
      "text/plain": [
       "True"
      ]
     },
     "execution_count": 11,
     "metadata": {},
     "output_type": "execute_result"
    }
   ],
   "source": [
    "np.allclose(ones, np.ones_like(lamb))"
   ]
  },
  {
   "cell_type": "code",
   "execution_count": null,
   "metadata": {
    "collapsed": true
   },
   "outputs": [],
   "source": []
  }
 ],
 "metadata": {
  "anaconda-cloud": {},
  "kernelspec": {
   "display_name": "Python [default]",
   "language": "python",
   "name": "python2"
  },
  "language_info": {
   "codemirror_mode": {
    "name": "ipython",
    "version": 2
   },
   "file_extension": ".py",
   "mimetype": "text/x-python",
   "name": "python",
   "nbconvert_exporter": "python",
   "pygments_lexer": "ipython2",
   "version": "2.7.10"
  }
 },
 "nbformat": 4,
 "nbformat_minor": 0
}
