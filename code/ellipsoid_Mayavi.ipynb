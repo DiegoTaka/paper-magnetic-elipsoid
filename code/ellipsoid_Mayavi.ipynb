{
 "cells": [
  {
   "cell_type": "markdown",
   "metadata": {},
   "source": [
    "# Plot an ellipsoid with Mayavi"
   ]
  },
  {
   "cell_type": "markdown",
   "metadata": {},
   "source": [
    "This is a [code](http://stackoverflow.com/questions/29971066/how-to-plot-3d-ellipsoid-with-mayavi) for plotting and ellipsoid with [Mayavi](http://mayavi.sourceforge.net/)."
   ]
  },
  {
   "cell_type": "code",
   "execution_count": 11,
   "metadata": {
    "collapsed": true
   },
   "outputs": [],
   "source": [
    "# Set PySide compatible APIs.\n",
    "import sip\n",
    "sip.setapi('QString', 2)\n",
    "sip.setapi('QVariant', 2)"
   ]
  },
  {
   "cell_type": "code",
   "execution_count": 12,
   "metadata": {
    "collapsed": true
   },
   "outputs": [],
   "source": [
    "from mayavi.api import Engine\n",
    "from mayavi.sources.api import ParametricSurface\n",
    "from mayavi.modules.api import Surface\n",
    "from mayavi import mlab\n",
    "from tvtk.tools import visual\n",
    "\n",
    "import numpy as np"
   ]
  },
  {
   "cell_type": "code",
   "execution_count": 13,
   "metadata": {
    "collapsed": true
   },
   "outputs": [],
   "source": [
    "def Arrow_From_A_to_B(x1, y1, z1, x2, y2, z2,scale=None):\n",
    "    ar1=visual.arrow(x=x1, y=y1, z=z1)\n",
    "    ar1.length_cone=0.4\n",
    "\n",
    "    arrow_length=np.sqrt((x2-x1)**2+(y2-y1)**2+(z2-z1)**2)\n",
    "    if scale is None:\n",
    "        ar1.actor.scale=[arrow_length, arrow_length, arrow_length]\n",
    "    else:\n",
    "        ar1.actor.scale=scale\n",
    "    ar1.pos = ar1.pos/arrow_length\n",
    "    ar1.axis = [x2-x1, y2-y1, z2-z1]\n",
    "    return ar1"
   ]
  },
  {
   "cell_type": "code",
   "execution_count": 23,
   "metadata": {
    "collapsed": false
   },
   "outputs": [
    {
     "name": "stdout",
     "output_type": "stream",
     "text": [
      "len(vtk_srcs) = 1\n",
      "len(vtk_srcs) = 1\n"
     ]
    }
   ],
   "source": [
    "engine = Engine()\n",
    "engine.start()\n",
    "scene = engine.new_scene()\n",
    "scene.scene.disable_render = True # for speed\n",
    "\n",
    "visual.set_viewer(scene)\n",
    "\n",
    "surfaces = []\n",
    "\n",
    "lamb = 0.\n",
    "a = 60.95717265 + lamb\n",
    "b = 5.26490647 + lamb\n",
    "c = 3.26490647 + lamb\n",
    "\n",
    "for i in range(2):\n",
    "    source = ParametricSurface()\n",
    "    source.function = 'ellipsoid'\n",
    "    engine.add_source(source)\n",
    "\n",
    "    surface = Surface()\n",
    "    source.add_module(surface)\n",
    "\n",
    "    actor = surface.actor # mayavi actor, actor.actor is tvtk actor\n",
    "    #actor.property.ambient = 1 # defaults to 0 for some reason, ah don't need it, turn off scalar visibility instead\n",
    "    actor.property.opacity = 0.7\n",
    "    actor.property.color = (0,0,1) # tuple(np.random.rand(3))\n",
    "    actor.mapper.scalar_visibility = False # don't colour ellipses by their scalar indices into colour map\n",
    "    actor.property.backface_culling = True # gets rid of weird rendering artifact when opacity is < 1\n",
    "    actor.property.specular = 0.1\n",
    "    #actor.property.frontface_culling = True\n",
    "    actor.actor.orientation = np.array([1,0,0]) * 360 # in degrees\n",
    "    actor.actor.origin = np.array([0,0,0])\n",
    "    actor.actor.position = np.array([0,0,0])\n",
    "    actor.actor.scale = np.array([ c,  b,  a])\n",
    "    actor.enable_texture=True\n",
    "    actor.property.representation = ['wireframe', 'surface'][i]\n",
    "    surfaces.append(surface)\n",
    "\n",
    "Arrow_From_A_to_B(0,0,0, c, 0, 0,np.array([c,c/3.,c/3.]))\n",
    "Arrow_From_A_to_B(0,0,0, 0, b, 0,np.array([c/3.,b,c/3.]))\n",
    "Arrow_From_A_to_B(0,0,0, 0, 0, a,np.array([c/3.,c/3.,a]))\n",
    "\n",
    "source.scene.background = (1.0,1.0,1.0)\n",
    "scene.scene.disable_render = False # now turn it on\n",
    "\n",
    "# set the scalars, this has to be done some indeterminate amount of time\n",
    "# after each surface is created, otherwise the scalars get overwritten\n",
    "# later by their default of 1.0\n",
    "for i, surface in enumerate(surfaces):\n",
    "    vtk_srcs = mlab.pipeline.get_vtk_src(surface)\n",
    "    print('len(vtk_srcs) = %d' % len(vtk_srcs))\n",
    "    vtk_src = vtk_srcs[0]\n",
    "    try: npoints = len(vtk_src.point_data.scalars)\n",
    "    except TypeError:\n",
    "        print('hit the TypeError on surface i=%d' % i)\n",
    "        npoints = 2500\n",
    "    vtk_src.point_data.scalars = np.tile(i, npoints)\n",
    "\n",
    "# on pick, find the ellipsoid with origin closest to the picked coord,\n",
    "# then check if that coord falls within that nearest ellipsoid, and if\n",
    "# so, print out the ellispoid id, or pop it up in a tooltip\n",
    "\n",
    "mlab.show()"
   ]
  },
  {
   "cell_type": "code",
   "execution_count": null,
   "metadata": {
    "collapsed": true
   },
   "outputs": [],
   "source": []
  }
 ],
 "metadata": {
  "kernelspec": {
   "display_name": "Python 2",
   "language": "python",
   "name": "python2"
  },
  "language_info": {
   "codemirror_mode": {
    "name": "ipython",
    "version": 2
   },
   "file_extension": ".py",
   "mimetype": "text/x-python",
   "name": "python",
   "nbconvert_exporter": "python",
   "pygments_lexer": "ipython2",
   "version": "2.7.11"
  }
 },
 "nbformat": 4,
 "nbformat_minor": 0
}
