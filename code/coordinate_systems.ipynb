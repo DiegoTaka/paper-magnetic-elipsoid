{
 "cells": [
  {
   "cell_type": "markdown",
   "metadata": {},
   "source": [
    "# Code for plotting ellipsoids"
   ]
  },
  {
   "cell_type": "code",
   "execution_count": 1,
   "metadata": {
    "collapsed": true
   },
   "outputs": [],
   "source": [
    "#%matplotlib inline"
   ]
  },
  {
   "cell_type": "code",
   "execution_count": 2,
   "metadata": {
    "collapsed": false
   },
   "outputs": [],
   "source": [
    "from mpl_toolkits.mplot3d import axes3d\n",
    "import matplotlib.pyplot as plt\n",
    "import numpy as np"
   ]
  },
  {
   "cell_type": "markdown",
   "metadata": {},
   "source": [
    "### Auxiliary functions"
   ]
  },
  {
   "cell_type": "code",
   "execution_count": 3,
   "metadata": {
    "collapsed": false
   },
   "outputs": [],
   "source": [
    "import auxiliary_functions as afun"
   ]
  },
  {
   "cell_type": "markdown",
   "metadata": {},
   "source": [
    "### Coordinate transformation matrix"
   ]
  },
  {
   "cell_type": "markdown",
   "metadata": {},
   "source": [
    "Let $(x, y, z)$ be a point refered to the Cartesian coordinate system shown below:"
   ]
  },
  {
   "cell_type": "code",
   "execution_count": 4,
   "metadata": {
    "collapsed": false
   },
   "outputs": [],
   "source": [
    "plt.close('all')\n",
    "fig = plt.figure(figsize=(5,5))\n",
    "plt.axis('scaled')\n",
    "ax = fig.gca(projection='3d')\n",
    "afun.draw_main_system(ax, length_axes=10.)\n",
    "plt.tight_layout()\n",
    "plt.show()"
   ]
  },
  {
   "cell_type": "markdown",
   "metadata": {},
   "source": [
    "### 3D models"
   ]
  },
  {
   "cell_type": "code",
   "execution_count": 6,
   "metadata": {
    "collapsed": false
   },
   "outputs": [],
   "source": [
    "# Set of all spherical angles:\n",
    "u = np.linspace(0, 2 * np.pi, 100)\n",
    "v = np.linspace(0, np.pi, 100)\n",
    "\n",
    "# orientation angles (in degrees)\n",
    "alpha = 180.\n",
    "gamma = 90.\n",
    "delta = 0.\n",
    "\n",
    "plt.close('all')\n",
    "fig = plt.figure(figsize=(10,8))\n",
    "ax = fig.gca(projection='3d')\n",
    "\n",
    "# plot the main coordinate system\n",
    "afun.draw_main_system(ax, length_axes=50., elev=190, azim=-10)\n",
    "\n",
    "# triaxial body\n",
    "afun.draw_ellipsoid(ax, 10., 0., 15., 10., 6., 2., alpha, gamma, delta, u, v,\n",
    "               body_color=(1,1,0), body_alpha=0.3, plot_axes=True)\n",
    "\n",
    "# prolate body\n",
    "afun.draw_ellipsoid(ax, 10., 25., 15., 10., 4., 4., alpha, gamma, delta, u, v,\n",
    "               body_color=(0,1,1), body_alpha=0.3, plot_axes=True)\n",
    "\n",
    "# oblate body\n",
    "afun.draw_ellipsoid(ax, 10., 50., 15, 6., 10., 10., alpha, gamma, delta, u, v,\n",
    "               body_color=(1,0,1), body_alpha=0.3, plot_axes=False)\n",
    "\n",
    "plt.tight_layout(True)\n",
    "\n",
    "plt.show()"
   ]
  },
  {
   "cell_type": "code",
   "execution_count": null,
   "metadata": {
    "collapsed": true
   },
   "outputs": [],
   "source": []
  }
 ],
 "metadata": {
  "anaconda-cloud": {},
  "kernelspec": {
   "display_name": "Python [default]",
   "language": "python",
   "name": "python2"
  },
  "language_info": {
   "codemirror_mode": {
    "name": "ipython",
    "version": 2
   },
   "file_extension": ".py",
   "mimetype": "text/x-python",
   "name": "python",
   "nbconvert_exporter": "python",
   "pygments_lexer": "ipython2",
   "version": "2.7.10"
  }
 },
 "nbformat": 4,
 "nbformat_minor": 0
}
