{
 "cells": [
  {
   "cell_type": "markdown",
   "metadata": {},
   "source": [
    "# Code for plotting ellipsoids"
   ]
  },
  {
   "cell_type": "code",
   "execution_count": 1,
   "metadata": {
    "collapsed": true
   },
   "outputs": [],
   "source": [
    "#%matplotlib inline"
   ]
  },
  {
   "cell_type": "code",
   "execution_count": 2,
   "metadata": {
    "collapsed": false
   },
   "outputs": [],
   "source": [
    "from mpl_toolkits.mplot3d import axes3d\n",
    "import matplotlib.pyplot as plt\n",
    "import numpy as np"
   ]
  },
  {
   "cell_type": "markdown",
   "metadata": {},
   "source": [
    "### Auxiliary functions"
   ]
  },
  {
   "cell_type": "code",
   "execution_count": 3,
   "metadata": {
    "collapsed": false
   },
   "outputs": [],
   "source": [
    "def draw_main_system(length_axes = 1., label_size = 22, elev=200, azim=-20):\n",
    "    '''\n",
    "    Plot the axes forming the main coordinate system.\n",
    "    \n",
    "    input\n",
    "    length_axes: float - length of the axes (in meters).\n",
    "        Default is 1.\n",
    "    label_size: float - size of the label font. Default is 22.\n",
    "    elev and azim: floats - parameters controlling the view\n",
    "        of the figure. Default is 200 and -20, respectively.\n",
    "        \n",
    "    output\n",
    "    matplotlib objects\n",
    "    '''\n",
    "\n",
    "    # x-axis\n",
    "    ax.quiver(length_axes, 0., 0., length_axes, 0., 0., \n",
    "              length = length_axes, color='k', linewidth=2.0, linestyle='-',\n",
    "              arrow_length_ratio=0.1)\n",
    "    ax.text(1.05*length_axes, 0., 0., '$x$', color='k', fontsize=label_size)\n",
    "\n",
    "    # y-axis\n",
    "    ax.quiver(0., length_axes, 0., 0., length_axes, 0., \n",
    "              length = length_axes, color='k', linewidth=2.0, linestyle='-',\n",
    "              arrow_length_ratio=0.1)\n",
    "    ax.text(0., 1.05*length_axes, 0., '$y$', color='k', fontsize=label_size)\n",
    "\n",
    "    # z-axis\n",
    "    ax.quiver(0., 0., length_axes, 0., 0., length_axes, \n",
    "              length = length_axes, color='k', linewidth=2.0, linestyle='-',\n",
    "              arrow_length_ratio=0.1)\n",
    "    ax.text(0., 0., 1.05*length_axes, '$z$', color='k', fontsize=label_size)\n",
    "\n",
    "    ax.axis('off')\n",
    "\n",
    "    #ax.set_xlim(0., 1.1)\n",
    "    #ax.set_ylim(0., 1.1)\n",
    "    #ax.set_zlim(0., 1.1)\n",
    "\n",
    "    ax.view_init(elev=elev, azim=azim)"
   ]
  },
  {
   "cell_type": "code",
   "execution_count": 4,
   "metadata": {
    "collapsed": true
   },
   "outputs": [],
   "source": [
    "def V_triaxial(alpha, gamma, delta):\n",
    "    '''\n",
    "    Calculates the coordinate transformation matrix\n",
    "    for a triaxial model.\n",
    "    \n",
    "    input\n",
    "    alpha: float - angle alpha (in degrees)\n",
    "    gamma: float - angle gamma (in degrees)\n",
    "    delta: float - angle delta (in degrees)\n",
    "    \n",
    "    output\n",
    "    V: numpy array 2D - coordinate transformation matrix\n",
    "    '''\n",
    "\n",
    "    cos_alpha = np.cos(np.deg2rad(alpha))\n",
    "    sin_alpha = np.sin(np.deg2rad(alpha))\n",
    "\n",
    "    cos_gamma = np.cos(np.deg2rad(gamma))\n",
    "    sin_gamma = np.sin(np.deg2rad(gamma))\n",
    "\n",
    "    cos_delta = np.cos(np.deg2rad(delta))\n",
    "    sin_delta = np.sin(np.deg2rad(delta))\n",
    "\n",
    "    v1 = np.array([-cos_alpha*cos_delta, \n",
    "                   -sin_alpha*cos_delta, \n",
    "                   -sin_delta])\n",
    "\n",
    "    v2 = np.array([ cos_alpha*cos_gamma*sin_delta + sin_alpha*sin_gamma,\n",
    "                    sin_alpha*cos_gamma*sin_delta - cos_alpha*sin_gamma,\n",
    "                   -cos_gamma*cos_delta])\n",
    "\n",
    "    v3 = np.array([ sin_alpha*cos_gamma - cos_alpha*sin_gamma*sin_delta,\n",
    "                   -cos_alpha*cos_gamma - sin_alpha*sin_gamma*sin_delta,\n",
    "                    sin_gamma*cos_delta])\n",
    "    \n",
    "    V = np.vstack((v1, v2, v3)).T\n",
    "    \n",
    "    return V"
   ]
  },
  {
   "cell_type": "code",
   "execution_count": 5,
   "metadata": {
    "collapsed": true
   },
   "outputs": [],
   "source": [
    "def V_prolate(alpha, gamma, delta):\n",
    "    '''\n",
    "    Calculates the coordinate transformation matrix\n",
    "    for a prolate model.\n",
    "    \n",
    "    input\n",
    "    alpha: float - angle alpha (in degrees)\n",
    "    gamma: float - angle gamma (in degrees)\n",
    "    delta: float - angle delta (in degrees)\n",
    "    \n",
    "    output\n",
    "    V: numpy array 2D - coordinate transformation matrix\n",
    "    '''\n",
    "\n",
    "    cos_alpha = np.cos(np.deg2rad(alpha))\n",
    "    sin_alpha = np.sin(np.deg2rad(alpha))\n",
    "\n",
    "    cos_gamma = np.cos(np.deg2rad(gamma))\n",
    "    sin_gamma = np.sin(np.deg2rad(gamma))\n",
    "\n",
    "    cos_delta = np.cos(np.deg2rad(delta))\n",
    "    sin_delta = np.sin(np.deg2rad(delta))\n",
    "\n",
    "    v1 = np.array([-cos_alpha*cos_delta, \n",
    "                   -sin_alpha*cos_delta, \n",
    "                   -sin_delta])\n",
    "\n",
    "    v2 = np.array([ cos_alpha*cos_gamma*sin_delta + sin_alpha*sin_gamma,\n",
    "                    sin_alpha*cos_gamma*sin_delta - cos_alpha*sin_gamma,\n",
    "                   -cos_gamma*cos_delta])\n",
    "\n",
    "    v3 = np.array([ sin_alpha*cos_gamma - cos_alpha*sin_gamma*sin_delta,\n",
    "                   -cos_alpha*cos_gamma - sin_alpha*sin_gamma*sin_delta,\n",
    "                    sin_gamma*cos_delta])\n",
    "    \n",
    "    V = np.vstack((v1, v2, v3)).T\n",
    "    \n",
    "    return V"
   ]
  },
  {
   "cell_type": "code",
   "execution_count": 6,
   "metadata": {
    "collapsed": true
   },
   "outputs": [],
   "source": [
    "def V_oblate(alpha, gamma, delta):\n",
    "    '''\n",
    "    Calculates the coordinate transformation matrix\n",
    "    for an oblate model.\n",
    "    \n",
    "    input\n",
    "    alpha: float - angle alpha (in degrees)\n",
    "    gamma: float - angle gamma (in degrees)\n",
    "    delta: float - angle delta (in degrees)\n",
    "    \n",
    "    output\n",
    "    V: numpy array 2D - coordinate transformation matrix\n",
    "    '''\n",
    "\n",
    "    cos_alpha = np.cos(np.deg2rad(alpha))\n",
    "    sin_alpha = np.sin(np.deg2rad(alpha))\n",
    "\n",
    "    cos_gamma = np.cos(np.deg2rad(gamma))\n",
    "    sin_gamma = np.sin(np.deg2rad(gamma))\n",
    "\n",
    "    cos_delta = np.cos(np.deg2rad(delta))\n",
    "    sin_delta = np.sin(np.deg2rad(delta))\n",
    "\n",
    "    v1 = np.array([-cos_alpha*cos_delta, \n",
    "                   -sin_alpha*cos_delta, \n",
    "                   -sin_delta])\n",
    "\n",
    "    v2 = np.array([ cos_alpha*cos_gamma*sin_delta + sin_alpha*sin_gamma,\n",
    "                    sin_alpha*cos_gamma*sin_delta - cos_alpha*sin_gamma,\n",
    "                   -cos_gamma*cos_delta])\n",
    "\n",
    "    v3 = np.array([ sin_alpha*cos_gamma - cos_alpha*sin_gamma*sin_delta,\n",
    "                   -cos_alpha*cos_gamma - sin_alpha*sin_gamma*sin_delta,\n",
    "                    sin_gamma*cos_delta])\n",
    "    \n",
    "    V = np.vstack((v2, v1, -v3)).T\n",
    "    \n",
    "    return V"
   ]
  },
  {
   "cell_type": "code",
   "execution_count": 7,
   "metadata": {
    "collapsed": false
   },
   "outputs": [],
   "source": [
    "def draw_ellipsoid(xc, yc, zc, a, b, c, alpha, gamma, delta, \n",
    "                   u, v, body_color, body_alpha, \n",
    "                   plot_axes=True, axes_color=(0,0,0), label_size=16):\n",
    "    '''\n",
    "    Plot an ellipsoidal body with axes a, b, c and\n",
    "    origin at (xc, yc, zc).\n",
    "    \n",
    "    input\n",
    "    xc: float - Cartesian coordinate x (in meters) of the origin\n",
    "        referred to the main system.\n",
    "    yc: float - Cartesian coordinate y (in meters) of the origin\n",
    "        referred to the main system.\n",
    "    zc: float - Cartesian coordinate z (in meters) of the origin\n",
    "        referred to the main system.\n",
    "    a: float - axis a (in meters)\n",
    "    b: float - axis b (in meters)\n",
    "    c: float - axis c (in meters)\n",
    "    alpha: float - angle alpha (in degrees)\n",
    "    gamma: float - angle gamma (in degrees)\n",
    "    delta: float - angle delta (in degrees)\n",
    "    u: None or numpy array 1D - angular spherical \n",
    "        coordinates (in radians) for plotting the ellipsoidal surface.\n",
    "    v: None or numpy array 1D - angular spherical \n",
    "        coordinates (in radians) for plotting the ellipsoidal surface.\n",
    "    body_color: RGB matplotlib tuple - color of the body.\n",
    "    body_alpha: float - transparency of the body.\n",
    "    plot_axes: boolean - If True (default), plot the body axes.\n",
    "    axes_color: RGB matplotlib tuple - color of the axes. The default\n",
    "        is (0,0,0) - black color.\n",
    "    label_size: float - size of the label font. Default is 22.\n",
    "    \n",
    "    output\n",
    "    matplotlib objects\n",
    "    '''\n",
    "    \n",
    "    if (a > b > c):\n",
    "        V = V_triaxial(alpha, gamma, delta)\n",
    "        \n",
    "    if (a > b == c):\n",
    "        V = V_prolate(alpha, gamma, delta)\n",
    "        \n",
    "    if (a < b == c):\n",
    "        V = V_oblate(alpha, gamma, delta)\n",
    "        \n",
    "    if (a == b == c):\n",
    "        V = np.identity(3)\n",
    "        \n",
    "    if plot_axes is True:\n",
    "        \n",
    "        ax.quiver(xc+V[0,0]*a, yc+V[1,0]*a, zc+V[2,0]*a, V[0,0], V[1,0], V[2,0],\n",
    "                  length=a, color=axes_color, linewidth=3.0, linestyle='-',\n",
    "                  arrow_length_ratio=0.1)\n",
    "        ax.text(xc+V[0,0]*a*1.05, yc+V[1,0]*a*1.05, zc+V[2,0]*a*1.05, \n",
    "                '$a \\hat{\\mathbf{v}}_{1}$', color=axes_color, fontsize=label_size)\n",
    "\n",
    "        ax.quiver(xc+V[0,1]*b, yc+V[1,1]*b, zc+V[2,1]*b, V[0,1], V[1,1], V[2,1],\n",
    "                  length=b, color=axes_color, linewidth=3.0, linestyle='-',\n",
    "                  arrow_length_ratio=0.1)\n",
    "        ax.text(xc+V[0,1]*b*1.05, yc+V[1,1]*b*1.05, zc+V[2,1]*b*1.05, \n",
    "                '$b \\hat{\\mathbf{v}}_{2}$', color=axes_color, fontsize=label_size)\n",
    "\n",
    "        ax.quiver(xc+V[0,2]*c, yc+V[1,2]*c, zc+V[2,2]*c, V[0,2], V[1,2], V[2,2],\n",
    "                  length=c, color=axes_color, linewidth=3.0, linestyle='-',\n",
    "                  arrow_length_ratio=0.1)\n",
    "        ax.text(xc+V[0,2]*c*1.05, yc+V[1,2]*c*1.05, zc+V[2,2]*c*1.05, \n",
    "                '$c \\hat{\\mathbf{v}}_{3}$', color=axes_color, fontsize=label_size)\n",
    "    \n",
    "\n",
    "    if (u is not None) and (v is not None):\n",
    "        \n",
    "        # Cartesian coordinates referred to the body system\n",
    "        x1 = a * np.outer(np.cos(u), np.sin(v))\n",
    "        x2 = b * np.outer(np.sin(u), np.sin(v))\n",
    "        x3 = c * np.outer(np.ones_like(u), np.cos(v))\n",
    "\n",
    "        # Cartesian coordinates referred to the main system\n",
    "        x = V[0,0]*x1 + V[0,1]*x2 + V[0,2]*x3 + xc\n",
    "        y = V[1,0]*x1 + V[1,1]*x2 + V[1,2]*x3 + yc\n",
    "        z = V[2,0]*x1 + V[2,1]*x2 + V[2,2]*x3 + zc\n",
    "\n",
    "        # Plot:\n",
    "        ax.plot_surface(x, y, z, linewidth=0., color=body_color, alpha=body_alpha)"
   ]
  },
  {
   "cell_type": "markdown",
   "metadata": {},
   "source": [
    "### Coordinate transformation matrix"
   ]
  },
  {
   "cell_type": "markdown",
   "metadata": {},
   "source": [
    "Let $(x, y, z)$ be a point refered to the Cartesian coordinate system shown below:"
   ]
  },
  {
   "cell_type": "code",
   "execution_count": 8,
   "metadata": {
    "collapsed": false
   },
   "outputs": [],
   "source": [
    "plt.close('all')\n",
    "fig = plt.figure(figsize=(5,5))\n",
    "plt.axis('scaled')\n",
    "ax = fig.gca(projection='3d')\n",
    "draw_main_system(length_axes=10.)\n",
    "plt.tight_layout()\n",
    "plt.show()"
   ]
  },
  {
   "cell_type": "markdown",
   "metadata": {},
   "source": [
    "### 3D models"
   ]
  },
  {
   "cell_type": "code",
   "execution_count": 11,
   "metadata": {
    "collapsed": false
   },
   "outputs": [],
   "source": [
    "# Set of all spherical angles:\n",
    "u = np.linspace(0, 2 * np.pi, 100)\n",
    "v = np.linspace(0, np.pi, 100)\n",
    "\n",
    "# orientation angles (in degrees)\n",
    "alpha = 180.\n",
    "gamma = 90.\n",
    "delta = 0.\n",
    "\n",
    "plt.close('all')\n",
    "fig = plt.figure(figsize=(10,8))\n",
    "ax = fig.gca(projection='3d')\n",
    "\n",
    "# plot the main coordinate system\n",
    "draw_main_system(length_axes=50., elev=190, azim=-10)\n",
    "\n",
    "# triaxial body\n",
    "draw_ellipsoid(10., 0., 15., 10., 6., 2., alpha, gamma, delta, u, v,\n",
    "               body_color=(1,1,0), body_alpha=0.3, plot_axes=True)\n",
    "\n",
    "# prolate body\n",
    "draw_ellipsoid(10., 25., 15., 10., 4., 4., alpha, gamma, delta, u, v,\n",
    "               body_color=(0,1,1), body_alpha=0.3, plot_axes=True)\n",
    "\n",
    "# oblate body\n",
    "draw_ellipsoid(10., 50., 15, 6., 10., 10., alpha, gamma, delta, u, v,\n",
    "               body_color=(1,0,1), body_alpha=0.3, plot_axes=False)\n",
    "\n",
    "plt.tight_layout(True)\n",
    "\n",
    "plt.show()"
   ]
  },
  {
   "cell_type": "code",
   "execution_count": null,
   "metadata": {
    "collapsed": true
   },
   "outputs": [],
   "source": []
  }
 ],
 "metadata": {
  "anaconda-cloud": {},
  "kernelspec": {
   "display_name": "Python 2",
   "language": "python",
   "name": "python2"
  },
  "language_info": {
   "codemirror_mode": {
    "name": "ipython",
    "version": 2
   },
   "file_extension": ".py",
   "mimetype": "text/x-python",
   "name": "python",
   "nbconvert_exporter": "python",
   "pygments_lexer": "ipython2",
   "version": "2.7.11"
  }
 },
 "nbformat": 4,
 "nbformat_minor": 0
}
