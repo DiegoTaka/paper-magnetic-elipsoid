{
 "cells": [
  {
   "cell_type": "code",
   "execution_count": null,
   "metadata": {
    "collapsed": false
   },
   "outputs": [],
   "source": [
    "\"\"\"\n",
    "GravMag: 3D forward modeling of total-field magnetic anomaly using triaxial\n",
    "ellipsoids (model with induced and remanent magnetization)\n",
    "\"\"\"\n",
    "from fatiando import mesher, gridder, utils\n",
    "from fatiando.gravmag import ellipsoid_triaxial\n",
    "from fatiando.vis import mpl, myv\n",
    "\n",
    "# The regional field\n",
    "inten,inc, dec = 60000., 30, -15\n",
    "bounds = [-5000, 5000, -5000, 5000, 0, 5000]\n",
    "model = [mesher.EllipsoidTriaxial(-2500.,-2500.,500.,2000.,100.,50.,0.,0.,0., \n",
    "                                 {'remanence': [10000, 90., 0.],\n",
    "                                  'k': [0.2, 0.1, 0.05, 0., 90., 90.]}),\n",
    "        mesher.EllipsoidTriaxial(2500.,2500.,500.,2000.,100.,50.,0.,0.,0., \n",
    "                                 {'remanence': [10000, 90., 0.],\n",
    "                                  'k': [0.2, 0.1, 0.05, 0., 90., 90.]})]\n",
    "# Create a regular grid at 0m height\n",
    "shape = (200, 200)\n",
    "area = bounds[:4]\n",
    "xp, yp, zp = gridder.regular(area, shape, z=0)\n",
    "# Calculate the anomaly for a given regional field\n",
    "tf = ellipsoid_triaxial.tf_c(xp,yp,zp,inten,inc,dec,model)\n",
    "# Plot\n",
    "mpl.figure()\n",
    "mpl.title(\"Total-field anomaly (nT)\")\n",
    "mpl.axis('scaled')\n",
    "mpl.contourf(yp, xp, tf, shape, 15)\n",
    "mpl.colorbar()\n",
    "mpl.xlabel('East y (km)')\n",
    "mpl.ylabel('North x (km)')\n",
    "mpl.m2km()\n",
    "mpl.show()"
   ]
  }
 ],
 "metadata": {
  "anaconda-cloud": {},
  "kernelspec": {
   "display_name": "Python [default]",
   "language": "python",
   "name": "python2"
  },
  "language_info": {
   "codemirror_mode": {
    "name": "ipython",
    "version": 2
   },
   "file_extension": ".py",
   "mimetype": "text/x-python",
   "name": "python",
   "nbconvert_exporter": "python",
   "pygments_lexer": "ipython2",
   "version": "2.7.12"
  }
 },
 "nbformat": 4,
 "nbformat_minor": 1
}
