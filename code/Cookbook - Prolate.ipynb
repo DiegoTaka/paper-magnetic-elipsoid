{
 "cells": [
  {
   "cell_type": "code",
   "execution_count": 1,
   "metadata": {
    "collapsed": false
   },
   "outputs": [
    {
     "name": "stderr",
     "output_type": "stream",
     "text": [
      "C:\\Users\\Vanderlei\\Documents\\fatiando\\fatiando\\vis\\mpl.py:76: UserWarning: This module will be removed in v0.6. We recommend the use of matplotlib.pyplot module directly. Some of the fatiando specific functions will remain.\n",
      "  \"specific functions will remain.\")\n",
      "C:\\Users\\Vanderlei\\Documents\\fatiando\\fatiando\\vis\\myv.py:51: UserWarning: This module will be removed in v0.7.\n",
      "  warnings.warn(\"This module will be removed in v0.7.\")\n"
     ]
    }
   ],
   "source": [
    "\"\"\"\n",
    "GravMag: 3D forward modeling of total-field magnetic anomaly using prolate\n",
    "ellipsoid (model with induced and remanent magnetization)\n",
    "\"\"\"\n",
    "from fatiando import mesher, gridder, utils\n",
    "from fatiando.gravmag import ellipsoid_prolate\n",
    "from fatiando.vis import mpl, myv\n",
    "\n",
    "# The regional field\n",
    "inten,inc, dec = 60000., 30, -15\n",
    "bounds = [-5000, 5000, -5000, 5000, 0, 5000]\n",
    "# Create a model containing two prolate ellipsoids\n",
    "model = [mesher.EllipsoidProlate(-2500.,-2500.,0.,200.,100.,0.,0., \n",
    "                                 {'remanence': [10000, 90., 0.],\n",
    "                                  'k': [0.2, 0.1, 0.05, 0., 90., 90.]}),\n",
    "         mesher.EllipsoidProlate(2500.,2500.,0.,200.,100.,0.,0., \n",
    "                                 {'remanence': [5000, 90., 0.],\n",
    "                                  'k': [0.2, 0.1, 0.05, 0., 90., 90.]})]\n",
    "# Create a regular grid at 100m height\n",
    "shape = (200, 200)\n",
    "area = bounds[:4]\n",
    "xp, yp, zp = gridder.regular(area, shape, z=-500)\n",
    "# Calculate the anomaly for a given regional field\n",
    "tf = ellipsoid_prolate.tf_c(xp,yp,zp,inten,inc,dec,model)\n",
    "# Plot\n",
    "mpl.figure()\n",
    "mpl.title(\"Total-field anomaly (nT)\")\n",
    "mpl.axis('scaled')\n",
    "mpl.contourf(yp, xp, tf, shape, 15)\n",
    "mpl.colorbar()\n",
    "mpl.xlabel('East y (km)')\n",
    "mpl.ylabel('North x (km)')\n",
    "mpl.m2km()\n",
    "mpl.show()"
   ]
  },
  {
   "cell_type": "code",
   "execution_count": null,
   "metadata": {
    "collapsed": true
   },
   "outputs": [],
   "source": []
  }
 ],
 "metadata": {
  "anaconda-cloud": {},
  "kernelspec": {
   "display_name": "Python [default]",
   "language": "python",
   "name": "python2"
  },
  "language_info": {
   "codemirror_mode": {
    "name": "ipython",
    "version": 2
   },
   "file_extension": ".py",
   "mimetype": "text/x-python",
   "name": "python",
   "nbconvert_exporter": "python",
   "pygments_lexer": "ipython2",
   "version": "2.7.10"
  }
 },
 "nbformat": 4,
 "nbformat_minor": 1
}
