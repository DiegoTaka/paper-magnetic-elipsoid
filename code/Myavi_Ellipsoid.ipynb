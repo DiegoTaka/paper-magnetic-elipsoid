{
 "cells": [
  {
   "cell_type": "code",
   "execution_count": 1,
   "metadata": {
    "collapsed": true
   },
   "outputs": [],
   "source": [
    "%matplotlib inline\n",
    "import numpy as np\n",
    "from fatiando.vis import mpl, myv\n",
    "from fatiando import gridder, mesher, gravmag, utils\n",
    "from fatiando.gravmag import prism"
   ]
  },
  {
   "cell_type": "code",
   "execution_count": 2,
   "metadata": {
    "collapsed": false
   },
   "outputs": [
    {
     "name": "stderr",
     "output_type": "stream",
     "text": [
      "C:\\Anaconda2\\lib\\site-packages\\ipykernel\\__main__.py:11: RuntimeWarning: invalid value encountered in sqrt\n",
      "C:\\Anaconda2\\lib\\site-packages\\ipykernel\\__main__.py:12: RuntimeWarning: invalid value encountered in sqrt\n"
     ]
    }
   ],
   "source": [
    "a = 20.\n",
    "b = 10.\n",
    "c = 8.\n",
    "lamb = 0.\n",
    "x0 = 0.\n",
    "y0 = 0.\n",
    "z0 = -50.\n",
    "area3 = [-20.,20.,-20.,20.]\n",
    "shape3 = (50,50)\n",
    "x3, y3 = gridder.regular(area3, shape3)\n",
    "z3 = ((1 - ((x3-x0)**2/(a**2+lamb)) - ((y3-y0)**2/(b**2+lamb))) * (c**2+lamb))**0.5 + z0\n",
    "z32 = ((1 - ((x3-x0)**2/(a**2+lamb)) - ((y3-y0)**2/(b**2+lamb))) * (c**2+lamb))**0.5 - z0"
   ]
  },
  {
   "cell_type": "code",
   "execution_count": 3,
   "metadata": {
    "collapsed": false
   },
   "outputs": [],
   "source": [
    "L2 = 100\n",
    "bounds2 = [-0.5*L2, 0.5*L2, -0.5*L2, 0.5*L2, -0.5*L2, 0.5*L2] # Limites da região de visualização 3D\n",
    "\n",
    "myv.figure(size=(80,80))\n",
    "myv.points(np.vstack((x3, y3, z3)).T, color=(1, 0, 0), size=1, opacity=1)\n",
    "myv.points(-np.vstack((x3, y3, z32)).T, color=(1, 0, 0), size=1, opacity=1)\n",
    "ax = myv.axes(myv.outline(bounds2), ranges=[-20,20,-20,20,-50,0], nlabels=3, fmt='%.0f')\n",
    "ax.axes.x_label, ax.axes.y_label, ax.axes.z_label = 'x (km)', 'y (km)', 'z (km)'\n",
    "ax.axes.font_factor = 1.0\n",
    "myv.show()"
   ]
  },
  {
   "cell_type": "code",
   "execution_count": null,
   "metadata": {
    "collapsed": true
   },
   "outputs": [],
   "source": []
  }
 ],
 "metadata": {
  "kernelspec": {
   "display_name": "Python 2",
   "language": "python",
   "name": "python2"
  },
  "language_info": {
   "codemirror_mode": {
    "name": "ipython",
    "version": 2
   },
   "file_extension": ".py",
   "mimetype": "text/x-python",
   "name": "python",
   "nbconvert_exporter": "python",
   "pygments_lexer": "ipython2",
   "version": "2.7.11"
  }
 },
 "nbformat": 4,
 "nbformat_minor": 0
}
